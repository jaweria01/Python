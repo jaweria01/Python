{
  "nbformat": 4,
  "nbformat_minor": 0,
  "metadata": {
    "colab": {
      "provenance": [],
      "authorship_tag": "ABX9TyMMqE5JjQrViDJuq8Y/jyGE",
      "include_colab_link": true
    },
    "kernelspec": {
      "name": "python3",
      "display_name": "Python 3"
    },
    "language_info": {
      "name": "python"
    }
  },
  "cells": [
    {
      "cell_type": "markdown",
      "metadata": {
        "id": "view-in-github",
        "colab_type": "text"
      },
      "source": [
        "<a href=\"https://colab.research.google.com/github/jaweria01/Python/blob/main/Session1_%262(if_else_loops).ipynb\" target=\"_parent\"><img src=\"https://colab.research.google.com/assets/colab-badge.svg\" alt=\"Open In Colab\"/></a>"
      ]
    },
    {
      "cell_type": "markdown",
      "source": [
        "## **Python Basics**\n",
        "\n",
        "1. Comments\n",
        "\n",
        "2. Print Function\n",
        "\n",
        "3. Parameters of Print Function\n",
        "\n",
        "4. Data Types\n",
        "\n",
        "5. Variables Creating\n",
        "\n",
        "6. Methods of creating variables\n",
        "\n",
        "7. Rules of creating Variables\n",
        "\n",
        "8. Type Function\n",
        "\n",
        "9. Identity Operator\n",
        "\n",
        "10. Type Conversion\n",
        "\n",
        "11. Indentation\n",
        "\n",
        "12. Function of explicit Type conversion\n",
        "\n",
        "13. Literals\n",
        "\n",
        "14. Operators\n",
        "\n",
        "15. Types of Operators\n",
        "\n",
        "16. Controll Statments(if else)\n",
        "\n",
        "17. Programs Example\n",
        "\n",
        "**Program:1**\n",
        "```\n",
        "write a login page code in which if user give right email and password then ask him welcome and if he put wrong email and password\n",
        "then give him an error.\n",
        "```\n",
        "**program:2**\n",
        "```\n",
        "find the min/max of 3 given numbers.\n",
        "```\n",
        "**Program:3**\n",
        "```\n",
        "Menu driven calculator program\n",
        "```\n",
        "**Program:4**\n",
        "```\n",
        "ATM menu drive program\n",
        "```\n",
        "**program:5**\n",
        "```\n",
        "Write a menu-driven program\n",
        "cm to ft\n",
        "km to miles\n",
        "USD to INR\n",
        "exit\n",
        "```\n",
        "\n",
        "\n",
        "\n",
        "17. Loops\n",
        "```\n",
        "For Loop\n",
        "while Loop\n",
        "Nested Loop\n",
        "```\n",
        "17. For Loop\n",
        "18. Example Program\n",
        "\n",
        "**Program: 1**\n",
        "```\n",
        "The current population of a town is 10000. The population of the town is increasing at the rate of 10% per year.\n",
        "You have to write a program to find out the population at the end of each of the last 10 years.\n",
        "```\n",
        "\n",
        "19. While Loop\n",
        "\n",
        "**Program:1**\n",
        "```\n",
        "write a program about asking from user that which number of table he want to print?\n",
        "```\n",
        "**Program:2**\n",
        "\n",
        "```\n",
        "Write a program/game code in which program select the random number from 1 to 100 which will be the jackpot number. user have to\n",
        "guess that number. Program ask to the user guess that number?\n",
        "```\n",
        "20. Nested Loop\n",
        "**program:1**\n",
        "```\n",
        "# Pattern 3\n",
        "1\n",
        "121\n",
        "12321\n",
        "1234321\n",
        "```\n",
        "21. Loop Control statements\n",
        "```\n",
        "Break Statment\n",
        "Continue Statments\n",
        "Pass Statments\n"
      ],
      "metadata": {
        "id": "2CN3ryNB1FS8"
      }
    },
    {
      "cell_type": "markdown",
      "source": [
        "## **Python Basics**\n",
        "Python is an interpreter language.interpreter laguage means to execute/convert the code line by line to machine code."
      ],
      "metadata": {
        "id": "OLJHc2oDQ3Mx"
      }
    },
    {
      "cell_type": "markdown",
      "source": [
        "\n",
        "### **Compilation**\n",
        "```\n",
        "compilation is a process in which you convert your code into binary language.\n",
        "Programming is done in english language, it is called high level language.The machine where code is execute is basically a chip...core i3, i5, i7\n",
        "can not understand the english,it can understand binary language 1, 0 power on power off. So to execute the code on that machine convert that\n",
        "english code into binary pattern. This conversion process is called compilation.\"Compilation is done by Compiler or enterpreter\".\n",
        "\n",
        "*Java, c, c++ are compiled language Python ,php, javascript are intepreter laguage or Scripting languaes.*\n",
        "> Compiled language convert entire program into 0, 1 at once\n",
        "> Interpreter Language convert code /program into binary line by line\n",
        "\n",
        "We write code into high level language and compiler and interpreter convert that code into low level language so that machine can understand.\n",
        "\n",
        "  *Compiler are generally fast as compared to interpreter language ,because interpreter execute code line by line.*\n",
        "```\n",
        "\n"
      ],
      "metadata": {
        "id": "0MT5pHCfQ3x3"
      }
    },
    {
      "cell_type": "markdown",
      "source": [
        "### **Comments**"
      ],
      "metadata": {
        "id": "LBNb40ZpWVOG"
      }
    },
    {
      "cell_type": "code",
      "source": [
        "# Comments are snippet of code that python enterpreter egnore python supports multiline comments.\n",
        "# To see the entire documentation, just place the cursor on the Python function in question and press shift-Tab .\n",
        "# If you press shift-Tab several times, the entire documentation string is opened."
      ],
      "metadata": {
        "id": "L9WrRukMQ4GR"
      },
      "execution_count": null,
      "outputs": []
    },
    {
      "cell_type": "markdown",
      "source": [
        "### **Print Function**"
      ],
      "metadata": {
        "id": "CCKImoPHX5yQ"
      }
    },
    {
      "cell_type": "code",
      "source": [
        "print(6)"
      ],
      "metadata": {
        "id": "p6yRBUzNQ4HR"
      },
      "execution_count": null,
      "outputs": []
    },
    {
      "cell_type": "code",
      "source": [
        "print(5.6)"
      ],
      "metadata": {
        "id": "B0HkjxK9Q4Mf"
      },
      "execution_count": null,
      "outputs": []
    },
    {
      "cell_type": "code",
      "source": [
        "print(False)"
      ],
      "metadata": {
        "id": "Apd6N8ylQ4Ni"
      },
      "execution_count": null,
      "outputs": []
    },
    {
      "cell_type": "code",
      "source": [
        "print(\"India\",\"Pakistan\",\"Nepal\",\"Srilanka\")"
      ],
      "metadata": {
        "id": "H1EAUCNXQ4R5"
      },
      "execution_count": null,
      "outputs": []
    },
    {
      "cell_type": "code",
      "source": [
        "print(\"India\",5,True)"
      ],
      "metadata": {
        "id": "R0FpW5vgQ4S5"
      },
      "execution_count": null,
      "outputs": []
    },
    {
      "cell_type": "markdown",
      "source": [
        "#### **Parameters of Print Function**\n",
        "###### By default , is as space like (sep = ' ')we specifically set value of parameter(sep)"
      ],
      "metadata": {
        "id": "hZtgiJAQYUI9"
      }
    },
    {
      "cell_type": "code",
      "source": [
        "### sep = ' '\n",
        "end ='\\n'\n",
        "end=' '"
      ],
      "metadata": {
        "id": "53EwYTOFQ4W7"
      },
      "execution_count": null,
      "outputs": []
    },
    {
      "cell_type": "code",
      "source": [
        "print(\"India\",\"Pakistan\",\"Nepal\",\"Srilanka\",sep='/')"
      ],
      "metadata": {
        "id": "nyIoRc7fQ4X9"
      },
      "execution_count": null,
      "outputs": []
    },
    {
      "cell_type": "code",
      "source": [
        "print(\"India\",\"Pakistan\",\"Nepal\",\"Srilanka\", \"-started-\",sep='-',)"
      ],
      "metadata": {
        "id": "0e5iTEWaQ4cX"
      },
      "execution_count": null,
      "outputs": []
    },
    {
      "cell_type": "code",
      "source": [
        "### end = '\\n'....> means line change\n",
        "##### it is automatically at the end of line\n",
        "# \\n is default value at the end of the line , we can change other values instead of this/line change"
      ],
      "metadata": {
        "id": "c2Ck-jM3Q4dd"
      },
      "execution_count": null,
      "outputs": []
    },
    {
      "cell_type": "code",
      "source": [
        "print(\"Hy this is jaweria\",end ='\\n')"
      ],
      "metadata": {
        "id": "dtTVe2ELQ4hs"
      },
      "execution_count": null,
      "outputs": []
    },
    {
      "cell_type": "code",
      "source": [
        "print(\"Hy this is jaweria \\n and I am a data scientist\")"
      ],
      "metadata": {
        "id": "Mwr4WsovQ4ix"
      },
      "execution_count": null,
      "outputs": []
    },
    {
      "cell_type": "code",
      "source": [
        "print(\"Hello\")\n",
        "print(\"World\")"
      ],
      "metadata": {
        "id": "d2KIrTcaQ4mn"
      },
      "execution_count": null,
      "outputs": []
    },
    {
      "cell_type": "code",
      "source": [
        "print(\"Hello\",end=' ')\n",
        "print(\"world\")"
      ],
      "metadata": {
        "id": "Xi6xfffoQ4no"
      },
      "execution_count": null,
      "outputs": []
    },
    {
      "cell_type": "markdown",
      "source": [
        "## **Data Types**\n",
        "#####    Every language has different data types that work/use in that laguage.\n",
        "#### **Python supports 3 categories of data types:**\n",
        "```\n",
        " 1. Basic Types - (integer,float/decimal,complex, boolean,string, None)\n",
        " 2. Container Types - (List,Tuples, Sets and Dictionary)\n",
        " 3. User-defined Types - Class\n",
        "```\n",
        "\n"
      ],
      "metadata": {
        "id": "IYaCjGz3Zx4w"
      }
    },
    {
      "cell_type": "code",
      "source": [
        "# Data Structure and Data types have ultimately same work of holding the data"
      ],
      "metadata": {
        "id": "ieGwH2W1Q4rh"
      },
      "execution_count": null,
      "outputs": []
    },
    {
      "cell_type": "code",
      "source": [
        "# 1. Text/string\n",
        "print(\"Hello World\")"
      ],
      "metadata": {
        "id": "Mq8oGURwQ4sn"
      },
      "execution_count": null,
      "outputs": []
    },
    {
      "cell_type": "code",
      "source": [
        "# 2. Integer\n",
        "print(9)\n",
        "print(1e309)"
      ],
      "metadata": {
        "id": "XQxVWdERQ4wc"
      },
      "execution_count": null,
      "outputs": []
    },
    {
      "cell_type": "code",
      "source": [
        "# 10 raise power 10^ , result is infinity...> 1*10^309\n",
        "print(1e309)"
      ],
      "metadata": {
        "colab": {
          "base_uri": "https://localhost:8080/"
        },
        "id": "4lfusxr8blQ4",
        "outputId": "0c8f5bce-ce32-4978-f9ae-8d65bb5cbcf2"
      },
      "execution_count": null,
      "outputs": [
        {
          "output_type": "stream",
          "name": "stdout",
          "text": [
            "inf\n"
          ]
        }
      ]
    },
    {
      "cell_type": "code",
      "source": [
        "# 3. Decimal/Float\n",
        "print(9.7)"
      ],
      "metadata": {
        "id": "7gOl89qaQ4xh"
      },
      "execution_count": null,
      "outputs": []
    },
    {
      "cell_type": "code",
      "source": [
        "# large integer values and float values\n",
        "print(1.7e308)"
      ],
      "metadata": {
        "id": "g9OIKgzDQ41L"
      },
      "execution_count": null,
      "outputs": []
    },
    {
      "cell_type": "code",
      "source": [
        "# 4. complex\n",
        "print(3+4j)# ...> consist real part and imagenery part"
      ],
      "metadata": {
        "id": "wFJQk1xoQ42Q"
      },
      "execution_count": null,
      "outputs": []
    },
    {
      "cell_type": "code",
      "source": [
        "# (),[],{},are ways to represent different things"
      ],
      "metadata": {
        "id": "EnDdRSGJcjFV"
      },
      "execution_count": null,
      "outputs": []
    },
    {
      "cell_type": "code",
      "source": [
        "# 5.  List  C---> Array\n",
        "# we use square brackets in list\n",
        "print([1,2,3,4])"
      ],
      "metadata": {
        "id": "sl8ZlxOkQ46H"
      },
      "execution_count": null,
      "outputs": []
    },
    {
      "cell_type": "code",
      "source": [
        "# 6. Tuple ...> has small brackets\n",
        "print((1,2,34,5))"
      ],
      "metadata": {
        "id": "dNnPfZ28Q47X"
      },
      "execution_count": null,
      "outputs": []
    },
    {
      "cell_type": "code",
      "source": [
        "# 7. Sets.....> curly braces\n",
        "print({1,2,34,7,0})"
      ],
      "metadata": {
        "id": "Tr6ibjtrQ4-2"
      },
      "execution_count": null,
      "outputs": []
    },
    {
      "cell_type": "code",
      "source": [
        "# 8. Dictionary....>consists of key and values\n",
        "# key are string or can be any other type\n",
        "print({'name': 'jaweria', 'Goal': 'Data Scientist', 'Condition': 'Begginer', 'weight': 36})"
      ],
      "metadata": {
        "id": "BnGgczugQ4_8"
      },
      "execution_count": null,
      "outputs": []
    },
    {
      "cell_type": "code",
      "source": [
        "# 9. Boolean\n",
        "print(True)\n",
        "print(False)"
      ],
      "metadata": {
        "id": "jvbsvxGiQ5EG"
      },
      "execution_count": null,
      "outputs": []
    },
    {
      "cell_type": "code",
      "source": [
        "# 10. None Data type\n",
        "#print(none)"
      ],
      "metadata": {
        "id": "_r6ak2RqQ5FO"
      },
      "execution_count": null,
      "outputs": []
    },
    {
      "cell_type": "markdown",
      "source": [
        "### **Variables Creating/printing**\n",
        "\n",
        "\n",
        "```\n",
        "Variable are just like container to store the values/information variables are containers for future use\n",
        "whenever a i don't know, in future which value will insert my user in particular \\n place i will create variables at that place\n",
        "eg. in name phone n, mail\n",
        "```\n",
        "\n"
      ],
      "metadata": {
        "id": "qTOEkD2_wN0g"
      }
    },
    {
      "cell_type": "code",
      "source": [
        "# first we declare the variable, that what will be thr type of variable. which type of value we store in variable is depend upon the\n",
        "# datatype of variable this concept is used in C Language\n",
        "# in python we create variables directly instead of declaring\n",
        "# there is no variable declaration in Python, we just give the name of variable and store value in that.\n",
        "# Python is smart enough that we don't need to specify the data type of variable, it automatically understand what should be the type\n",
        "# of variable just by the stored value in varible\n",
        "# in other language,firstly  we have to specify that what will be the type of variable/ what will be the type of data user can store"
      ],
      "metadata": {
        "id": "HrmBf3WiQ5JM"
      },
      "execution_count": null,
      "outputs": []
    },
    {
      "cell_type": "code",
      "source": [
        "# Method of declaring variable in other languages. im creating a variable which has data type of integer\n",
        "# a is variable name and 12 is store value of variable\n",
        "# int a = 12\n",
        "a  = 12\n",
        "print(a)"
      ],
      "metadata": {
        "id": "lPJYOykAQ5Ke"
      },
      "execution_count": null,
      "outputs": []
    },
    {
      "cell_type": "markdown",
      "source": [
        "### **Methods of creating variables**"
      ],
      "metadata": {
        "id": "X7nkUNFFxWmz"
      }
    },
    {
      "cell_type": "code",
      "source": [
        "## Static Typing\n",
        "# define data type of variable during compilation\n",
        "# During the creating of variable, we tell that what will be the data type variable and we store values according to the type of vaiable\n",
        "# int a = 2\n",
        "\n",
        "## Dynamic Typing\n",
        "#  you dont need to declare the data type of variable.\n",
        "# python interpreter will automatically deduce the type of variable by the given value, like if value is integer then\n",
        "# variable type will be int\n",
        "# eg -------> php and python"
      ],
      "metadata": {
        "id": "ufo80Gk3Q5No"
      },
      "execution_count": null,
      "outputs": []
    },
    {
      "cell_type": "code",
      "source": [
        "# Statc Binding\n",
        "# In a statically typed language, data types are defined during compile time and cannot change during runtime. This behavior is\n",
        "# because of static type checking.\n",
        "# A variable can not change multiple data types.once the variable is declared as integer type ,one can not store the string value."
      ],
      "metadata": {
        "id": "gsD8_cesxxMs"
      },
      "execution_count": null,
      "outputs": []
    },
    {
      "cell_type": "code",
      "source": [
        "## Dynamic Binding\n",
        "# This In contrast, dynamic typing allows variables to change their data type during runtime.\n",
        "# varible has not fix data type.variable is not binded to any data type you can change the stored value and type of variable will\n",
        "# automatically change. a variable can change multiple data type."
      ],
      "metadata": {
        "id": "UQgQLbi4Q5O2"
      },
      "execution_count": null,
      "outputs": []
    },
    {
      "cell_type": "code",
      "source": [
        "a = 1\n",
        "print(a)"
      ],
      "metadata": {
        "id": "zyPFJHa0xnbs"
      },
      "execution_count": null,
      "outputs": []
    },
    {
      "cell_type": "code",
      "source": [
        "a = \"anaya\"\n",
        "print(a)"
      ],
      "metadata": {
        "id": "Lu-oNmf2xnde"
      },
      "execution_count": null,
      "outputs": []
    },
    {
      "cell_type": "code",
      "source": [
        "#"
      ],
      "metadata": {
        "id": "n8wIwbH2xngG"
      },
      "execution_count": null,
      "outputs": []
    },
    {
      "cell_type": "code",
      "source": [
        "## Special Syntax\n",
        "a = 1; b = 2; c= 3\n",
        "print(a)\n",
        "print(b)\n",
        "print(c)"
      ],
      "metadata": {
        "id": "bVOS22N9xnhm"
      },
      "execution_count": null,
      "outputs": []
    },
    {
      "cell_type": "code",
      "source": [
        "a,b,c = 4,5,6\n",
        "print(a)\n",
        "print(b)\n",
        "print(c)"
      ],
      "metadata": {
        "id": "ZJ4srUq4xnne"
      },
      "execution_count": null,
      "outputs": []
    },
    {
      "cell_type": "code",
      "source": [
        "a = b= c = 7\n",
        "print(a)\n",
        "print(b)\n",
        "print(c)"
      ],
      "metadata": {
        "id": "eRcPOMVKxnot"
      },
      "execution_count": null,
      "outputs": []
    },
    {
      "cell_type": "code",
      "source": [
        "a= b= c = 7\n",
        "print(a,b,c)"
      ],
      "metadata": {
        "id": "9HZ6jlWPxntL"
      },
      "execution_count": null,
      "outputs": []
    },
    {
      "cell_type": "markdown",
      "source": [
        "### **Rules of creating Variables**"
      ],
      "metadata": {
        "id": "_A0AyAPlzPfJ"
      }
    },
    {
      "cell_type": "markdown",
      "source": [
        "\n",
        "#### **Keywords**\n",
        "```\n",
        "Python is a case sensitive programming language\n",
        "In programming, a keyword is a word that is reserved by a program/compiler or enterpreterto understand the code and to convert the high level\n",
        "language to low level language. because the word has a special meaning. Keywords can becommands\n",
        "or parameters. Every programming language has a set of keywords that cannot be used as variable names\n",
        "Compiler understand the low level 0 1 . so we convert the high level code into low level so that\n",
        " compiler can interpret the program. so keywords are not use as veriable. compiler get confuse about the code if you use keywords as veriable\n",
        "```\n",
        "\n"
      ],
      "metadata": {
        "id": "wVw4SnW-zZLY"
      }
    },
    {
      "cell_type": "code",
      "source": [
        "# python has 33 keywords\n",
        "import keyword\n",
        "print(keyword.kwlist)"
      ],
      "metadata": {
        "id": "KiLM0vMW0t38"
      },
      "execution_count": null,
      "outputs": []
    },
    {
      "cell_type": "markdown",
      "source": [
        "#### **Identifiers**\n",
        "A Python identifier is a name used to identify a variable, function, class, module or other object."
      ],
      "metadata": {
        "id": "SE1Wa7EYzZTi"
      }
    },
    {
      "cell_type": "code",
      "source": [
        "#Rules for setting Identifiers\n",
        "#can only start with an alphabet Followed by 0 or letter,_ and digits\n",
        "#  _ is only special char that can be used for identifier\n",
        "#keywords cannot be used as an identifiers"
      ],
      "metadata": {
        "id": "Yjdn3Z6L059i"
      },
      "execution_count": null,
      "outputs": []
    },
    {
      "cell_type": "markdown",
      "source": [
        "### **Type Function**\n",
        "##### Type function detect the data type that we passed in that function..which type of data store"
      ],
      "metadata": {
        "id": "8z67RRPKyOqc"
      }
    },
    {
      "cell_type": "code",
      "source": [
        "student = \"Naila\"\n",
        "type(student)"
      ],
      "metadata": {
        "id": "xg-qeBZjxnup"
      },
      "execution_count": null,
      "outputs": []
    },
    {
      "cell_type": "code",
      "source": [
        "# integer\n",
        "a1 = 2;\n",
        "a1"
      ],
      "metadata": {
        "id": "PAyeja6byY29"
      },
      "execution_count": null,
      "outputs": []
    },
    {
      "cell_type": "code",
      "source": [
        "# 10 raise power 10^ , result is infinity\n",
        "print(1e309)"
      ],
      "metadata": {
        "id": "yizKzhSDyY4w"
      },
      "execution_count": null,
      "outputs": []
    },
    {
      "cell_type": "code",
      "source": [
        "# Float\n",
        "a2 = 3.2;\n",
        "a2\n",
        "type(a2)\n",
        "print(1.7e308)"
      ],
      "metadata": {
        "id": "oJNRzk0CyY8A"
      },
      "execution_count": null,
      "outputs": []
    },
    {
      "cell_type": "code",
      "source": [
        "a3 = 3+4j;\n",
        "a3\n",
        "type(a3)"
      ],
      "metadata": {
        "id": "DGvc3p6CyY9s"
      },
      "execution_count": null,
      "outputs": []
    },
    {
      "cell_type": "code",
      "source": [
        "name = \"Jaweria\"\n",
        "print(name)\n",
        "type(name)"
      ],
      "metadata": {
        "id": "vpsfmV05yZAs"
      },
      "execution_count": null,
      "outputs": []
    },
    {
      "cell_type": "code",
      "source": [
        "type([1,2,3,4])"
      ],
      "metadata": {
        "id": "Q63mkhBwyZCW"
      },
      "execution_count": null,
      "outputs": []
    },
    {
      "cell_type": "markdown",
      "source": [
        "### **Taking User Input:**"
      ],
      "metadata": {
        "id": "Qg6SOGOz7XEc"
      }
    },
    {
      "cell_type": "code",
      "source": [
        "# working of input()\n",
        "input()"
      ],
      "metadata": {
        "id": "pYNvp7pO7ga-"
      },
      "execution_count": null,
      "outputs": []
    },
    {
      "cell_type": "code",
      "source": [
        "# tell user to input something\n",
        "input(\"Tell me Your Name:\")"
      ],
      "metadata": {
        "id": "LbMzzsfr7gcn"
      },
      "execution_count": null,
      "outputs": []
    },
    {
      "cell_type": "markdown",
      "source": [
        "**Example:**\n",
        "Take 2 numbers as input from users and then add them and print the result"
      ],
      "metadata": {
        "id": "F4dXRRZ271HE"
      }
    },
    {
      "cell_type": "code",
      "source": [
        "# Take input from user and store them in a variable\n",
        "# add 2 numbers\n",
        "# print result"
      ],
      "metadata": {
        "id": "n2CLDDBm7gfg"
      },
      "execution_count": null,
      "outputs": []
    },
    {
      "cell_type": "code",
      "source": [
        "num1 = int(input(\"Enter  1 num\"))"
      ],
      "metadata": {
        "id": "DtnI_c8I7ghL"
      },
      "execution_count": null,
      "outputs": []
    },
    {
      "cell_type": "code",
      "source": [
        "num2 = int(input(\"Enter 2 num\"))"
      ],
      "metadata": {
        "id": "zNDT_i0h8FjA"
      },
      "execution_count": null,
      "outputs": []
    },
    {
      "cell_type": "code",
      "source": [
        "print(num1, num2)"
      ],
      "metadata": {
        "id": "kb2ublX08FlP"
      },
      "execution_count": null,
      "outputs": []
    },
    {
      "cell_type": "code",
      "source": [
        "print(type(num1), type(num2))"
      ],
      "metadata": {
        "id": "yAaKo1xO8FnP"
      },
      "execution_count": null,
      "outputs": []
    },
    {
      "cell_type": "code",
      "source": [
        "result = num1 + num2\n",
        "print(result)"
      ],
      "metadata": {
        "id": "bUxxFikD8Fqj"
      },
      "execution_count": null,
      "outputs": []
    },
    {
      "cell_type": "markdown",
      "source": [
        "**Example :**"
      ],
      "metadata": {
        "id": "ZhwO4Rp88QnZ"
      }
    },
    {
      "cell_type": "code",
      "source": [
        "first_num = input(\"Enter the first number\")\n",
        "sec_num = input(\"Enter the sec number\")"
      ],
      "metadata": {
        "id": "qfDmeavH8FsT"
      },
      "execution_count": null,
      "outputs": []
    },
    {
      "cell_type": "code",
      "source": [
        "print(first_num)\n",
        "print(sec_num)"
      ],
      "metadata": {
        "id": "HkPbQxKP8FuH"
      },
      "execution_count": null,
      "outputs": []
    },
    {
      "cell_type": "code",
      "source": [
        "#result = first_num + sec_num\n",
        "result = int(first_num)+int(sec_num)\n",
        "print(result)\n",
        "print(type(result))\n",
        "print(type(first_num), type(sec_num))"
      ],
      "metadata": {
        "id": "PWOB7f_R8Fv0"
      },
      "execution_count": null,
      "outputs": []
    },
    {
      "cell_type": "code",
      "source": [
        "type(first_num)"
      ],
      "metadata": {
        "id": "qtxiPtj08Fxc"
      },
      "execution_count": null,
      "outputs": []
    },
    {
      "cell_type": "code",
      "source": [
        "# type of first_num and sec_num is still integer , while the answer is in int type\n",
        "# the answer is that puython is not change the previous/old data it create new data by using old and change in the current data which\n",
        "# has data type integer. The mathematically code i run on new data.\n",
        "# Python conversion operation does not change the original data , it creates a new value and you work on that new value"
      ],
      "metadata": {
        "id": "PcWjGezt8FzY"
      },
      "execution_count": null,
      "outputs": []
    },
    {
      "cell_type": "code",
      "source": [
        "# user number input values store in a string data type, when yoe plus two string , the result will be the combination of string\n",
        "# not plus mathematically\n",
        "# The data on which we were working are strings not numbers"
      ],
      "metadata": {
        "id": "6OfNNlNL8p2Z"
      },
      "execution_count": null,
      "outputs": []
    },
    {
      "cell_type": "markdown",
      "source": [
        "**Why always user input is store in string variable/data type??**\n",
        "\n",
        "\n",
        "```\n",
        "String is a unversal format. means you can store other data type in string. eg. 4 is a number but you can store it into string format.\n",
        "a = '4'\n",
        "but you can not store string into integer format.you can not make \"Jaweria\" an integer.\n",
        "Python community thought that user can give inputin any language in numbers , so that code could not crash , user input always store in a\n",
        "string variable/ data type. because it is a universal format.\n",
        "```\n",
        "\n"
      ],
      "metadata": {
        "id": "nU739CK_81Eb"
      }
    },
    {
      "cell_type": "markdown",
      "source": [
        "### **Type Conversion**\n",
        "Conerting one data type into other data type\n",
        "\n",
        "#### **Types of Conversion**\n",
        "```\n",
        "**1. Implicit Type Conversion**\n",
        "Python automatically perform type conversion and understand the data how to handle them\n",
        "\n",
        "**2. Explicit Type Conversion**\n",
        "When there is need to tell the python to do type conversion\n",
        "```\n",
        "\n",
        "\n"
      ],
      "metadata": {
        "id": "1On3Yj2S67Zv"
      }
    },
    {
      "cell_type": "code",
      "source": [
        "# Implicit type conversion\n",
        "# when python automatically do type conversion\n",
        "# operation on two different data type integer and float\n",
        "4+3.3\n",
        "print(4+3.3)\n",
        "print(type(4), type(3.3))"
      ],
      "metadata": {
        "id": "EPzwf51_yZFI"
      },
      "execution_count": null,
      "outputs": []
    },
    {
      "cell_type": "code",
      "source": [
        "# integer and complex\n",
        "4 + 6+6j"
      ],
      "metadata": {
        "id": "G7WZ7PweyZGn"
      },
      "execution_count": null,
      "outputs": []
    },
    {
      "cell_type": "code",
      "source": [
        "# float and complex\n",
        "4.1 + 1+6j"
      ],
      "metadata": {
        "id": "GK5Zk2lEyZJm"
      },
      "execution_count": null,
      "outputs": []
    },
    {
      "cell_type": "markdown",
      "source": [
        "### **Function of explicit Type conversion**\n",
        "```\n",
        "For explicit type conversion programmer use built-in functions\n",
        "For type conversion, a funtion is dedicated to every data type, eg for boolean , sets, lists, dictionary, tuple\n",
        "```\n",
        "\n"
      ],
      "metadata": {
        "id": "pvEzkaoE-bNc"
      }
    },
    {
      "cell_type": "code",
      "source": [],
      "metadata": {
        "id": "SO6hQ3aSyZLL"
      },
      "execution_count": null,
      "outputs": []
    },
    {
      "cell_type": "markdown",
      "source": [
        "**1.** **int()**\n",
        "int() function convert the given compatible data type into integer"
      ],
      "metadata": {
        "id": "Dh5mFBy5_UeI"
      }
    },
    {
      "cell_type": "code",
      "source": [
        "# int() function convert the float to integer\n",
        "int(4.7)"
      ],
      "metadata": {
        "id": "Ih_-LIZIyZOM"
      },
      "execution_count": null,
      "outputs": []
    },
    {
      "cell_type": "code",
      "source": [
        "# int() function convert the string number to integer\n",
        "int(\"3\")"
      ],
      "metadata": {
        "id": "QQ474aOxyZQV"
      },
      "execution_count": null,
      "outputs": []
    },
    {
      "cell_type": "markdown",
      "source": [
        "**2.** **float()**\n",
        "convert the given compatible data type into float"
      ],
      "metadata": {
        "id": "oFRAR_WK_M5x"
      }
    },
    {
      "cell_type": "code",
      "source": [
        "# float() function convert the given integer value to float\n",
        "float(3)"
      ],
      "metadata": {
        "id": "VDqoAEhCyZRz"
      },
      "execution_count": null,
      "outputs": []
    },
    {
      "cell_type": "code",
      "source": [
        "# float function convert the given string number into float.\n",
        "float(\"3\")"
      ],
      "metadata": {
        "id": "ZJ_LTMXHyZTw"
      },
      "execution_count": null,
      "outputs": []
    },
    {
      "cell_type": "markdown",
      "source": [
        "**3. str()**"
      ],
      "metadata": {
        "id": "CGRrCiG8_zf5"
      }
    },
    {
      "cell_type": "code",
      "source": [
        "# converting integer to string\n",
        "str(5)"
      ],
      "metadata": {
        "id": "5b7E02jt_xk_"
      },
      "execution_count": null,
      "outputs": []
    },
    {
      "cell_type": "code",
      "source": [
        "type(str(5))"
      ],
      "metadata": {
        "id": "CK7OH7xc_xm7"
      },
      "execution_count": null,
      "outputs": []
    },
    {
      "cell_type": "code",
      "source": [
        "type('4')"
      ],
      "metadata": {
        "id": "9Wjz8quZ_xqy"
      },
      "execution_count": null,
      "outputs": []
    },
    {
      "cell_type": "code",
      "source": [
        "type(int('4'))"
      ],
      "metadata": {
        "id": "9YtzrHrt_xsm"
      },
      "execution_count": null,
      "outputs": []
    },
    {
      "cell_type": "markdown",
      "source": [
        "**4. bol()**"
      ],
      "metadata": {
        "id": "adzkf-gHAHIs"
      }
    },
    {
      "cell_type": "code",
      "source": [
        "bool(1)"
      ],
      "metadata": {
        "id": "pz1JUvsz_xxN"
      },
      "execution_count": null,
      "outputs": []
    },
    {
      "cell_type": "code",
      "source": [
        "bool(0)"
      ],
      "metadata": {
        "id": "ipH3b0Vh_xzZ"
      },
      "execution_count": null,
      "outputs": []
    },
    {
      "cell_type": "markdown",
      "source": [
        "**5. complex()**"
      ],
      "metadata": {
        "id": "rwav5Q9_AWgd"
      }
    },
    {
      "cell_type": "code",
      "source": [
        "complex(3)"
      ],
      "metadata": {
        "id": "9tzRgKZG_x2L"
      },
      "execution_count": null,
      "outputs": []
    },
    {
      "cell_type": "markdown",
      "source": [
        "**6. list()**"
      ],
      "metadata": {
        "id": "9eXpkbVmAfRY"
      }
    },
    {
      "cell_type": "code",
      "source": [
        "list('hello')"
      ],
      "metadata": {
        "id": "vGgqE7_H_x60"
      },
      "execution_count": null,
      "outputs": []
    },
    {
      "cell_type": "markdown",
      "source": [
        "****Type conversion is not the permanent operation****\n",
        "\n",
        "\n",
        "```\n",
        "There will be no changes in original data/values. it will create a data type/\n",
        " new integer and we can use it on the otherhand type casting is permanent operation\n",
        "```\n",
        "\n"
      ],
      "metadata": {
        "id": "3nqDRk6eBAsL"
      }
    },
    {
      "cell_type": "code",
      "source": [
        "### Example"
      ],
      "metadata": {
        "id": "J3S-ePUT_x-6"
      },
      "execution_count": null,
      "outputs": []
    },
    {
      "cell_type": "code",
      "source": [
        "a = 4.8"
      ],
      "metadata": {
        "id": "VyqUdiXJ_yA0"
      },
      "execution_count": null,
      "outputs": []
    },
    {
      "cell_type": "code",
      "source": [
        "int(a)"
      ],
      "metadata": {
        "id": "ym06ngD8_yDa"
      },
      "execution_count": null,
      "outputs": []
    },
    {
      "cell_type": "code",
      "source": [
        "# original data is still the same\n",
        "a"
      ],
      "metadata": {
        "id": "_zzOJmks_yFe"
      },
      "execution_count": null,
      "outputs": []
    },
    {
      "cell_type": "code",
      "source": [
        "first_num = input(\"Enter the first number\")\n",
        "sec_num = input(\"Enter the sec number\")\n",
        "\n",
        "result = int(first_num) + int(sec_num)\n",
        "print(result)"
      ],
      "metadata": {
        "id": "6BLwqpiQ_yHj"
      },
      "execution_count": null,
      "outputs": []
    },
    {
      "cell_type": "code",
      "source": [
        "## here we apply the type conversion function while taking the user input\n",
        "first_num = int(input(\"Enter the first number\"))\n",
        "sec_num = int(input(\"Enter the sec number\"))\n",
        "\n",
        "result = first_num + sec_num\n",
        "print(result)"
      ],
      "metadata": {
        "id": "jKL87cq9yZVh"
      },
      "execution_count": null,
      "outputs": []
    },
    {
      "cell_type": "markdown",
      "source": [
        "**Type Casting**"
      ],
      "metadata": {
        "id": "8eZqmcn8COs0"
      }
    },
    {
      "cell_type": "markdown",
      "source": [
        "## **Indentation**\n"
      ],
      "metadata": {
        "id": "s4xnRCYNXl2z"
      }
    },
    {
      "cell_type": "code",
      "source": [
        "# in other languages semicolon and curly brackets are used mostly while in python there is no concept of ; and {}\n",
        "# if(condition){\n",
        "# code for if\n",
        "#      something;\n",
        "#      something;\n",
        "\n",
        "# }else{\n",
        "# code for else\n",
        "#     otherthing;\n",
        "#     otherthing;\n",
        "# }\n",
        "# Other languages are not affected by indentation since in python there is no concept of brackets so indentation is the only way\n",
        "# to detect the block of code in python\n",
        "# indentation increase code readability this is the main purpose of indentation\n",
        "# press tab to get gap(indetation) not space\n",
        "\n",
        "# if(condition) :\n",
        "       # code\n",
        "# else:\n",
        "      # code"
      ],
      "metadata": {
        "id": "ceGHlymMXsuf"
      },
      "execution_count": null,
      "outputs": []
    },
    {
      "cell_type": "code",
      "source": [
        "name = \"jaweria\"\n",
        "if name == \"jaweria\":\n",
        "    print(\"Right\")\n",
        "    print(\"exectly\")\n",
        "    if 5== 5:\n",
        "        print(\"true\")\n",
        "else:\n",
        "    print(\"Wrong\")"
      ],
      "metadata": {
        "id": "3Naqk3v-XwMp"
      },
      "execution_count": null,
      "outputs": []
    },
    {
      "cell_type": "markdown",
      "source": [
        "### **Literals**\n",
        "```\n",
        "Literal is a raw data given to a variable's value. In Python, there are various types of literals they are as follows:\n",
        "1.Numeric Literals\n",
        "2.String Literals\n",
        "3.Boolean Literals\n",
        "4.Special Literals\n",
        "```\n",
        "\n"
      ],
      "metadata": {
        "id": "GOgtPV4PCT5W"
      }
    },
    {
      "cell_type": "markdown",
      "source": [
        "**1.Numeric Literals**"
      ],
      "metadata": {
        "id": "EVswjFiiCh3S"
      }
    },
    {
      "cell_type": "code",
      "source": [
        "# Different Types of number system\n",
        "a = 0b1010 #Binary Literals......>rashveryby board\n",
        "b = 100 #Decimal Literal\n",
        "c = 0o310 #Octal Literal\n",
        "d = 0x12c #Hexadecimal Literal\n",
        "print(a)\n",
        "print(b)\n",
        "print(c)\n",
        "print(d)\n",
        "print(a, b, c, d)"
      ],
      "metadata": {
        "id": "jf4AqGhuCJKg"
      },
      "execution_count": null,
      "outputs": []
    },
    {
      "cell_type": "code",
      "source": [
        "#Float Literal....>1.5*10^2\n",
        "# two methods ...1. decimal 2. scientific\n",
        "float_1 = 10.5\n",
        "float_2 = 1.5e2\n",
        "float_3 = 1.5e-3\n",
        "print(float_1, float_2,float_3)"
      ],
      "metadata": {
        "id": "81SKLmlKCJMc"
      },
      "execution_count": null,
      "outputs": []
    },
    {
      "cell_type": "code",
      "source": [
        "#Complex Literal\n",
        "x = 3.14j\n",
        "print(x, x.imag, x.real)\n",
        "# can extract the imaginary part and real part"
      ],
      "metadata": {
        "id": "y4ipBBzYCJPR"
      },
      "execution_count": null,
      "outputs": []
    },
    {
      "cell_type": "markdown",
      "source": [
        "**2.String Literals**"
      ],
      "metadata": {
        "id": "F5PUiNFyCuwL"
      }
    },
    {
      "cell_type": "code",
      "source": [
        "string = 'This is Python'#....>single inverted commas\n",
        "strings = \"This is Python\"\n",
        "char = \"C\" # there is no character data type in python separately..> can use single character in data type value\n",
        "multiline_str = \"\"\"This is a multiline string with more than one line code.\"\"\"\n",
        "unicode = u\"\\U0001f600\\U0001F606\\U0001F923\"# ....>can pass the unicode character\n",
        "raw_str = r\"raw \\n string\"# when passing/printing html in python\n",
        "\n",
        "print(string)\n",
        "print(strings)\n",
        "print(char)\n",
        "print(multiline_str)\n",
        "print(unicode)\n",
        "print(raw_str)"
      ],
      "metadata": {
        "id": "uTAQo2bpCJRK"
      },
      "execution_count": null,
      "outputs": []
    },
    {
      "cell_type": "markdown",
      "source": [
        "\"Can unicode store images???\"\n",
        "\n"
      ],
      "metadata": {
        "id": "cU2pxQq6C3ah"
      }
    },
    {
      "cell_type": "markdown",
      "source": [
        "**3.Boolean Literals**"
      ],
      "metadata": {
        "id": "kfRx_QIDDAum"
      }
    },
    {
      "cell_type": "code",
      "source": [
        "# Python treat boolean as numbers\n",
        "a = True + 4 #....>implicit type conversion >>>>>>>>>>true =1\n",
        "b = False + 10 #..............>> false= 0\n",
        "\n",
        "print(\"a:\", a)\n",
        "print(\"b:\", b)"
      ],
      "metadata": {
        "id": "bkh3ImgbCJX-"
      },
      "execution_count": null,
      "outputs": []
    },
    {
      "cell_type": "markdown",
      "source": [
        "**4. Special Literal**"
      ],
      "metadata": {
        "id": "MemhbrKZDHqu"
      }
    },
    {
      "cell_type": "code",
      "source": [
        "a = None # none is the absence of anything.if there is no value of variable then we put None,\n",
        "# None is also used to declare variable\n",
        "print(a)"
      ],
      "metadata": {
        "id": "3xGK_I64CJaF"
      },
      "execution_count": null,
      "outputs": []
    },
    {
      "cell_type": "code",
      "source": [
        "# As we know that there is no variable declaration python, we can not declare a variable first for use it into future like that.\n",
        "#k\n",
        "# just k variable throw an error , so we put a none value to it\n",
        "k = None\n",
        "a = 2\n",
        "print(a)"
      ],
      "metadata": {
        "id": "NvcpsY-BCJcH"
      },
      "execution_count": null,
      "outputs": []
    },
    {
      "cell_type": "markdown",
      "source": [
        "### **Operators**\n",
        "\n",
        "\n",
        "```\n",
        "Operators are used to perform operations on variables and values. Python has the following operators:\n",
        "1.Arithmetic operators\n",
        "2.Comparison operators\n",
        "3.Logical operators\n",
        "4.Bitwise operators\n",
        "5.Assignment operators\n",
        "6.Identity operators\n",
        "7.Membership operators\n",
        "```\n",
        "\n"
      ],
      "metadata": {
        "id": "u6bLhubADWL1"
      }
    },
    {
      "cell_type": "markdown",
      "source": [
        "**1.Arithmetic Operators**"
      ],
      "metadata": {
        "id": "VAMRcVJWDpnk"
      }
    },
    {
      "cell_type": "code",
      "source": [
        "# + Adds one operand to the other\n",
        "# -Subtracts the second operand from the first\n",
        "# *  Multiplies one operand by the other\n",
        "# / Divides the first operand by the second..> integer division\n",
        "# % modulo .. Divides the first INTEGER operand by the second, and returns the remainder"
      ],
      "metadata": {
        "id": "PIrqSfWoCJeH"
      },
      "execution_count": null,
      "outputs": []
    },
    {
      "cell_type": "code",
      "source": [
        "b1=10\n",
        "b2=20\n",
        "b1,b2"
      ],
      "metadata": {
        "id": "JoBm0huYCJf8"
      },
      "execution_count": null,
      "outputs": []
    },
    {
      "cell_type": "code",
      "source": [
        "# plus operator\n",
        "b1+b2"
      ],
      "metadata": {
        "id": "e7UEIkdJDwZP"
      },
      "execution_count": null,
      "outputs": []
    },
    {
      "cell_type": "code",
      "source": [
        "# Subtraction operator\n",
        "b1-b2"
      ],
      "metadata": {
        "id": "3nnfMF4hDwcJ"
      },
      "execution_count": null,
      "outputs": []
    },
    {
      "cell_type": "code",
      "source": [
        "# Multiplication operator\n",
        "b1*b2"
      ],
      "metadata": {
        "id": "YlpgE3OiDweN"
      },
      "execution_count": null,
      "outputs": []
    },
    {
      "cell_type": "code",
      "source": [
        "b1**b2"
      ],
      "metadata": {
        "id": "k8GuPoHVDwgb"
      },
      "execution_count": null,
      "outputs": []
    },
    {
      "cell_type": "code",
      "source": [
        "#  division operator\n",
        "b1/b2"
      ],
      "metadata": {
        "id": "eks2P210Dwiw"
      },
      "execution_count": null,
      "outputs": []
    },
    {
      "cell_type": "code",
      "source": [
        "# Integer division\n",
        "# Computer Science. Integer division refers to the process of dividing two integers and obtaining the quotient without any fractional\n",
        "#part. It is a fundamental operation in computer science and is used to perform calculations that involve whole numbers.\n",
        "#b1//b2\n",
        "print(5/2) # quotient with fraction...> in decimal\n",
        "print(5//2) # quotient without fraction..>in integer"
      ],
      "metadata": {
        "id": "cOCQnVPiDwlo"
      },
      "execution_count": null,
      "outputs": []
    },
    {
      "cell_type": "code",
      "source": [
        "# Modulous operator ..> tells reminder when we divide numerator and denomirator\n",
        "print(b2%b1)"
      ],
      "metadata": {
        "id": "18NmlofCEGnR"
      },
      "execution_count": null,
      "outputs": []
    },
    {
      "cell_type": "code",
      "source": [
        "# Power of operator\n",
        "# 5 to the power 2\n",
        "print(5**2)"
      ],
      "metadata": {
        "id": "6GeBkaAdEGpn"
      },
      "execution_count": null,
      "outputs": []
    },
    {
      "cell_type": "markdown",
      "source": [
        "**2. Relational Operator/Comparison Operator**"
      ],
      "metadata": {
        "id": "b2bkounmENTK"
      }
    },
    {
      "cell_type": "code",
      "source": [
        "# compare two quantities\n",
        "# < Less than\n",
        "# > greater than\n",
        "# == equal to\n",
        "# != not equal to\n",
        "# <= or =< less than or equal to\n",
        "# >= or => greater than or equal to"
      ],
      "metadata": {
        "id": "S9aljguXEGrr"
      },
      "execution_count": null,
      "outputs": []
    },
    {
      "cell_type": "code",
      "source": [
        "c1=50\n",
        "c2=100"
      ],
      "metadata": {
        "id": "XYYGxOhtEGt0"
      },
      "execution_count": null,
      "outputs": []
    },
    {
      "cell_type": "code",
      "source": [
        "c1<c2"
      ],
      "metadata": {
        "id": "1ARHd11EEGv5"
      },
      "execution_count": null,
      "outputs": []
    },
    {
      "cell_type": "code",
      "source": [
        "c1>c2"
      ],
      "metadata": {
        "id": "TAwzrCxLEGyD"
      },
      "execution_count": null,
      "outputs": []
    },
    {
      "cell_type": "code",
      "source": [
        "c1==c2"
      ],
      "metadata": {
        "id": "FLHOARo1EG0M"
      },
      "execution_count": null,
      "outputs": []
    },
    {
      "cell_type": "code",
      "source": [
        "c1!=c2"
      ],
      "metadata": {
        "id": "gqDoxmsxEG2F"
      },
      "execution_count": null,
      "outputs": []
    },
    {
      "cell_type": "code",
      "source": [
        "print(b1<= b2)"
      ],
      "metadata": {
        "id": "UInltCBTEG4N"
      },
      "execution_count": null,
      "outputs": []
    },
    {
      "cell_type": "code",
      "source": [
        "(b1>=b2)"
      ],
      "metadata": {
        "id": "QVz-9bJXEG6H"
      },
      "execution_count": null,
      "outputs": []
    },
    {
      "cell_type": "code",
      "source": [
        "print(4>7)"
      ],
      "metadata": {
        "id": "r3RtGs4FEnK5"
      },
      "execution_count": null,
      "outputs": []
    },
    {
      "cell_type": "markdown",
      "source": [
        "**3. Logical Operator**\n",
        "```\n",
        "AND\n",
        "OR\n",
        "NOT\n",
        "```\n",
        "```\n",
        " &(AND) |(OR)\n",
        " In AND if both statements are true then result is True\n",
        " In OR if only one statement is true then result will be True\n",
        " NOT convert 1 to 0 and zero to 1\n",
        "```\n",
        "\n"
      ],
      "metadata": {
        "id": "ymtN77ykEq1u"
      }
    },
    {
      "cell_type": "code",
      "source": [
        "a = True\n",
        "b = False"
      ],
      "metadata": {
        "id": "TSMzF3cYEnNE"
      },
      "execution_count": null,
      "outputs": []
    },
    {
      "cell_type": "code",
      "source": [
        "# a & a\n",
        "a and a"
      ],
      "metadata": {
        "id": "9p-rtR1kEnPb"
      },
      "execution_count": null,
      "outputs": []
    },
    {
      "cell_type": "code",
      "source": [
        "# a & b\n",
        "a and b"
      ],
      "metadata": {
        "id": "6CKiHxx4EnRf"
      },
      "execution_count": null,
      "outputs": []
    },
    {
      "cell_type": "code",
      "source": [
        "not a"
      ],
      "metadata": {
        "id": "eBUDrEXfEnWl"
      },
      "execution_count": null,
      "outputs": []
    },
    {
      "cell_type": "code",
      "source": [
        "# and operator\n",
        "# when one entitity is false and other is true\n",
        "print(1 and 0)"
      ],
      "metadata": {
        "id": "Yh7S_TuzEnY6"
      },
      "execution_count": null,
      "outputs": []
    },
    {
      "cell_type": "code",
      "source": [
        "# when both are entities are true then result will be true\n",
        "print(1 and 1)"
      ],
      "metadata": {
        "id": "DVs-Ny1jFSNs"
      },
      "execution_count": null,
      "outputs": []
    },
    {
      "cell_type": "code",
      "source": [
        "# Or operator\n",
        "print(0 or 1)"
      ],
      "metadata": {
        "id": "T5JETXw_FSQF"
      },
      "execution_count": null,
      "outputs": []
    },
    {
      "cell_type": "code",
      "source": [
        "# Not operator\n",
        "#  NOT convert 1 to 0 and zero to 1\n",
        "# python consider 1 is True\n",
        "print(not 1)"
      ],
      "metadata": {
        "id": "SIp8nbscFSSi"
      },
      "execution_count": null,
      "outputs": []
    },
    {
      "cell_type": "code",
      "source": [
        "# Python consider 0 is False\n",
        "print(not 0)"
      ],
      "metadata": {
        "id": "IgpuGkwZFSUo"
      },
      "execution_count": null,
      "outputs": []
    },
    {
      "cell_type": "markdown",
      "source": [
        "**4. Bitwise Operator**\n",
        "\n",
        "\n",
        "```\n",
        "They work on binary numbers\n",
        "Bitwise AND\n",
        "Bitwise OR\n",
        "Bitwise NOT\n",
        "Bitwise left shift\n",
        "Bitwise right shif\n",
        "```\n",
        "\n",
        "\n",
        "\n"
      ],
      "metadata": {
        "id": "Zu1SXLtBFcDO"
      }
    },
    {
      "cell_type": "code",
      "source": [
        "# Bitwise XOR Operator"
      ],
      "metadata": {
        "id": "uK7UuTgEFSW5"
      },
      "execution_count": null,
      "outputs": []
    },
    {
      "cell_type": "code",
      "source": [
        "# see the binary of 2 and 3\n",
        "# binary of 2\n",
        "# 321\n",
        "# 010\n",
        "# binary of 3\n",
        "# 321\n",
        "# 110\n",
        "# when we plus these binaries\n",
        "# 010\n",
        "# 110\n",
        "# By Applying XOR Operator\n",
        "# 001 ...> true + false = false ......> True + True = false......> False + False = True\n",
        "# This is the pattern of 1\n",
        "print(2 ^ 3)"
      ],
      "metadata": {
        "id": "PjnxUPmjFSY-"
      },
      "execution_count": null,
      "outputs": []
    },
    {
      "cell_type": "code",
      "source": [
        "# Bitwise Not Operato"
      ],
      "metadata": {
        "id": "IRZnWcX7FSbQ"
      },
      "execution_count": null,
      "outputs": []
    },
    {
      "cell_type": "code",
      "source": [
        "# convert all bunaries of 3 ,  0 to 1 and 1 to 0\n",
        "print(~3)"
      ],
      "metadata": {
        "id": "qJUAWG6eFywa"
      },
      "execution_count": null,
      "outputs": []
    },
    {
      "cell_type": "code",
      "source": [
        "# Bitwise left Shift Operato"
      ],
      "metadata": {
        "id": "KEgPsmQEFyy5"
      },
      "execution_count": null,
      "outputs": []
    },
    {
      "cell_type": "code",
      "source": [
        "print(4 >> 2)\n",
        "# write bunary of 4 and shift every bit pattern with 2 difference in left side"
      ],
      "metadata": {
        "id": "EMmaBv5FFy1S"
      },
      "execution_count": null,
      "outputs": []
    },
    {
      "cell_type": "code",
      "source": [
        "## Bitwise Right Operato"
      ],
      "metadata": {
        "id": "D7HIfJ4fFy5Y"
      },
      "execution_count": null,
      "outputs": []
    },
    {
      "cell_type": "code",
      "source": [
        "print(4<<2)"
      ],
      "metadata": {
        "id": "Gk6N3K6VGB52"
      },
      "execution_count": null,
      "outputs": []
    },
    {
      "cell_type": "code",
      "source": [
        "print(5 << 2)"
      ],
      "metadata": {
        "id": "dz2Dt4_9GB8a"
      },
      "execution_count": null,
      "outputs": []
    },
    {
      "cell_type": "code",
      "source": [
        "# Usually bitwise operator use in image processing and computer vision"
      ],
      "metadata": {
        "id": "vai1Fv_xGCAn"
      },
      "execution_count": null,
      "outputs": []
    },
    {
      "cell_type": "markdown",
      "source": [
        "**5. Assignment Operator**"
      ],
      "metadata": {
        "id": "kxK2hTs2GI_7"
      }
    },
    {
      "cell_type": "code",
      "source": [
        "# a = 2\n",
        "# a i variable , = is assignment operator, 2 is literal\n",
        "# you assign a value to variable using sign equal to =\n",
        "\n",
        "# There are different ways of using assignment operators, you can use assignment operator with other operators"
      ],
      "metadata": {
        "id": "5E-Z1dgDGCDk"
      },
      "execution_count": null,
      "outputs": []
    },
    {
      "cell_type": "code",
      "source": [
        "a = 2\n",
        "print(a)"
      ],
      "metadata": {
        "id": "iek08cnnGCGE"
      },
      "execution_count": null,
      "outputs": []
    },
    {
      "cell_type": "code",
      "source": [
        "a = 2\n",
        "a += 2\n",
        "print(a)\n",
        "# add 2 in current value of a and store these values in a\n",
        "# we do two step of code in 1 step"
      ],
      "metadata": {
        "id": "ZJnE-dBqGCIl"
      },
      "execution_count": null,
      "outputs": []
    },
    {
      "cell_type": "code",
      "source": [
        "b = b + 2\n",
        "print(b)"
      ],
      "metadata": {
        "id": "dRu6QyMUGCK-"
      },
      "execution_count": null,
      "outputs": []
    },
    {
      "cell_type": "code",
      "source": [
        "b = b % 6\n",
        "print(b)"
      ],
      "metadata": {
        "id": "deUQEtZYGCNL"
      },
      "execution_count": null,
      "outputs": []
    },
    {
      "cell_type": "code",
      "source": [
        "c = 6\n",
        "c %= 30\n",
        "print(c)"
      ],
      "metadata": {
        "id": "SoHNdF9YGdE9"
      },
      "execution_count": null,
      "outputs": []
    },
    {
      "cell_type": "code",
      "source": [
        "d = 9\n",
        "d = d % 193\n",
        "print(d)"
      ],
      "metadata": {
        "id": "dAbA9VLoGdHb"
      },
      "execution_count": null,
      "outputs": []
    },
    {
      "cell_type": "markdown",
      "source": [
        "**6. Membership Operator**"
      ],
      "metadata": {
        "id": "waua2G_vGjTy"
      }
    },
    {
      "cell_type": "code",
      "source": [
        "# in/not , in\n",
        "# check either one thing is present or not in already given thind\n",
        "# there is no need to run loop for checking in each loop that either a character is present or not"
      ],
      "metadata": {
        "id": "2-nujdnZGdJ9"
      },
      "execution_count": null,
      "outputs": []
    },
    {
      "cell_type": "code",
      "source": [
        "# work of in\n",
        "print('J' in 'Jaweria')"
      ],
      "metadata": {
        "id": "QLU8YA96GdMM"
      },
      "execution_count": null,
      "outputs": []
    },
    {
      "cell_type": "code",
      "source": [
        "print('B' in 'Jaweria')"
      ],
      "metadata": {
        "id": "1LG9STM-GdOf"
      },
      "execution_count": null,
      "outputs": []
    },
    {
      "cell_type": "code",
      "source": [
        "# work of not in\n",
        "# check specific character is not present, if not present then result will be true, otherwise false\n",
        "print('J' not in 'Jaweria')"
      ],
      "metadata": {
        "id": "UTXyq30wGdQu"
      },
      "execution_count": null,
      "outputs": []
    },
    {
      "cell_type": "code",
      "source": [
        "print('D' not in 'Breeda')"
      ],
      "metadata": {
        "id": "V1InYf2DGzxm"
      },
      "execution_count": null,
      "outputs": []
    },
    {
      "cell_type": "code",
      "source": [
        "# membership operators not only work on strings but they also work on other data types also like list, tuple, sets, dic.\n",
        "\n",
        "# for example we want to check either 1 comes in given list or not\n",
        "print(1 in [2, 4,7,8])"
      ],
      "metadata": {
        "id": "slNH9emOGzz7"
      },
      "execution_count": null,
      "outputs": []
    },
    {
      "cell_type": "markdown",
      "source": [
        "**7. Identity Operator**"
      ],
      "metadata": {
        "id": "QOCZKuK-G6HM"
      }
    },
    {
      "cell_type": "code",
      "source": [],
      "metadata": {
        "id": "uau7gbPKG3Cr"
      },
      "execution_count": null,
      "outputs": []
    },
    {
      "cell_type": "markdown",
      "source": [
        "#### **Operator Related Programs**"
      ],
      "metadata": {
        "id": "rze1WeOwHOY8"
      }
    },
    {
      "cell_type": "code",
      "source": [
        "# Find the sum of three digits numbers entered by user"
      ],
      "metadata": {
        "id": "_87oTSflG3Fa"
      },
      "execution_count": null,
      "outputs": []
    },
    {
      "cell_type": "code",
      "source": [
        "num = int(input(\"Enter 3 digit number : \"))\n",
        "print(\"Digits entered by users : \", num)\n",
        "\n",
        "# modulus extract the last number\n",
        "a = num% 10\n",
        "print(a)\n",
        "\n",
        "b = 45%10\n",
        "print(b)\n",
        "\n",
        "c = 4% 10\n",
        "print(c)"
      ],
      "metadata": {
        "id": "NE0-z62zG3Kw"
      },
      "execution_count": null,
      "outputs": []
    },
    {
      "cell_type": "code",
      "source": [
        "# this question can be done by loop\n",
        "num = int(input(\"Enter 3 digit number : \"))\n",
        "print(\"Digits entered by users : \", num)\n",
        "\n",
        "# modulus extract the last number\n",
        "# 234%10---> 4\n",
        "a = num% 10\n",
        "print(a)\n",
        "\n",
        "# integer division\n",
        "#23% 10 ----> 3\n",
        "num = (num//10) # now 45 is store in numbers\n",
        "b = num % 10\n",
        "print(b)\n",
        "\n",
        "# 3%10 ----> 2\n",
        "num = (num //10)\n",
        "c = num % 10\n",
        "print(c)\n",
        "\n",
        "sum = a + b+ c\n",
        "print(\"Sum of three digits is : \", sum)"
      ],
      "metadata": {
        "id": "iVRlhOZ6XNYl"
      },
      "execution_count": null,
      "outputs": []
    },
    {
      "cell_type": "code",
      "source": [
        "print(345//10)\n",
        "print(345/10)"
      ],
      "metadata": {
        "id": "934UfaSMXNbt"
      },
      "execution_count": null,
      "outputs": []
    },
    {
      "cell_type": "code",
      "source": [
        "print(679//10)\n",
        "print(679/10)"
      ],
      "metadata": {
        "id": "XqnI-a-9XNmM"
      },
      "execution_count": null,
      "outputs": []
    },
    {
      "cell_type": "code",
      "source": [],
      "metadata": {
        "id": "tSRPUysqXNpF"
      },
      "execution_count": null,
      "outputs": []
    },
    {
      "cell_type": "code",
      "source": [],
      "metadata": {
        "id": "Ta6KyTukXNrj"
      },
      "execution_count": null,
      "outputs": []
    },
    {
      "cell_type": "code",
      "source": [],
      "metadata": {
        "id": "bqg95wuwXNtz"
      },
      "execution_count": null,
      "outputs": []
    },
    {
      "cell_type": "code",
      "source": [],
      "metadata": {
        "id": "JRA6qC57XNws"
      },
      "execution_count": null,
      "outputs": []
    },
    {
      "cell_type": "code",
      "source": [],
      "metadata": {
        "id": "bLuTqRXvXNzM"
      },
      "execution_count": null,
      "outputs": []
    },
    {
      "cell_type": "code",
      "source": [],
      "metadata": {
        "id": "NGfMiy2TXN5i"
      },
      "execution_count": null,
      "outputs": []
    },
    {
      "cell_type": "markdown",
      "source": [
        "## **Decision Controll statments**\n",
        "#### **if else**"
      ],
      "metadata": {
        "id": "8QCCl1dvYctr"
      }
    },
    {
      "cell_type": "code",
      "source": [
        "#  if else is used there where branches are become in code , two branches like user will put right detal or wring in login form.\n",
        "\n",
        "# if you have 2 possibilities then you use if else conditions, and if you have 3 or more possibilities then you use elif condotion\n",
        "# for example you have 5 possibilities , then you handle first possibility with if and last with else, and middle possibilities with\n",
        "# elif"
      ],
      "metadata": {
        "id": "2GPTKVI9Y5PU"
      },
      "execution_count": null,
      "outputs": []
    },
    {
      "cell_type": "markdown",
      "source": [
        "### **Programs Example:**"
      ],
      "metadata": {
        "id": "94w0HjArY_Do"
      }
    },
    {
      "cell_type": "markdown",
      "source": [
        "\n",
        "```\n",
        "write a login page code in which if user give right email and password then ask him welcome and if he put wrong email and password\n",
        "then give him an error.\n",
        "```\n",
        "\n"
      ],
      "metadata": {
        "id": "tksJi_60lPgs"
      }
    },
    {
      "cell_type": "code",
      "source": [
        "# correct mail = \"jaweria@gmail.com\"\n",
        "# correct password = \"1234\"\n",
        "mail = input(\"Enter email\")\n",
        "pas = input(\"Enter password\")\n",
        "if mail == \"jaweria@gmail.com\" and pas = \"1234\":\n",
        "    print(\"welcome\")\n",
        "else:\n",
        "    print(\"incorrect credentials\")"
      ],
      "metadata": {
        "id": "ATZea9RmZKZg"
      },
      "execution_count": null,
      "outputs": []
    },
    {
      "cell_type": "code",
      "source": [
        "# if user give one credential true and one is wrong then give him another chance\n",
        "# one more branch"
      ],
      "metadata": {
        "id": "FRkXXUjnZKdC"
      },
      "execution_count": null,
      "outputs": []
    },
    {
      "cell_type": "code",
      "source": [
        "mail = input(\"Enter email\")\n",
        "pas = input(\"Enter password\")\n",
        "if mail == \"jaweria@gmail.com\" and pas ==  \"1234\":\n",
        "    print(\"welcome\")\n",
        "elif mail == \"jaweria@gmail.com\" and pas != \"1234\":\n",
        "    print(\"Password incorrect\")\n",
        "    pas = input(\"Renter password\")\n",
        "    # nested if else , you can do branches under the elif\n",
        "    if pas == \"1234\":\n",
        "        print(\"Finally Correct\")\n",
        "    else:\n",
        "        print(\"Still incorrect\")\n",
        "else:\n",
        "    print(\"incorrect credentials\")"
      ],
      "metadata": {
        "id": "Xx1liQaMZKfz"
      },
      "execution_count": null,
      "outputs": []
    },
    {
      "cell_type": "markdown",
      "source": [
        "#### **Program Example:**\n",
        "find the min/max of 3 given numbers."
      ],
      "metadata": {
        "id": "VfTdRtKQZdKn"
      }
    },
    {
      "cell_type": "code",
      "source": [
        "num1 = int(input(\"Enter num1 : \"))\n",
        "num2 = int(input(\"Enter num2 : \"))\n",
        "num3 = int(input(\"Enter num3 : \"))\n",
        "\n",
        "if num1<num2 and num1<num3 :\n",
        "    print(\"num1 is smallest : \", num1)\n",
        "\n",
        "elif num2<num3 :\n",
        "    print(\"num2 is smallest : \", num2)\n",
        "\n",
        "else:\n",
        "    print(\"num3 is smallest :\", num3)"
      ],
      "metadata": {
        "id": "ss07MUWIZKid"
      },
      "execution_count": null,
      "outputs": []
    },
    {
      "cell_type": "markdown",
      "source": [
        "#### **Menu driven calculator program**"
      ],
      "metadata": {
        "id": "p0qxjsblZvaZ"
      }
    },
    {
      "cell_type": "code",
      "source": [
        "# There are different options fr the users."
      ],
      "metadata": {
        "id": "u2G6saigZKlb"
      },
      "execution_count": null,
      "outputs": []
    },
    {
      "cell_type": "code",
      "source": [
        "Fnum = int(input(\"Enter Ist number : \"))\n",
        "Snum = int(input(\"Enter Ist number : \"))\n",
        " op = input(\"Enter the Operation : \")\n",
        "\n",
        "if op == '+' :\n",
        "    print(Fnum + Snum)\n",
        "\n",
        "elif op == '-' :\n",
        "    print(Fnum - Snum)\n",
        "\n",
        "elif op == '*' :\n",
        "    print(Fnum * Snum)\n",
        "\n",
        "elif op == '/':\n",
        "    print(Fnum * Snum)\n",
        "\n",
        "elif op == '//'\n",
        "\n",
        "else:\n",
        "    print(Fnum% Snum)"
      ],
      "metadata": {
        "id": "kyegAqgbZKoC"
      },
      "execution_count": null,
      "outputs": []
    },
    {
      "cell_type": "markdown",
      "source": [
        "###**menu driven ATM program**"
      ],
      "metadata": {
        "id": "LyPVGmTKaBdG"
      }
    },
    {
      "cell_type": "code",
      "source": [
        "menu = input(\"\"\"\n",
        "Hi! how can I help you.\n",
        "1. Enter 1 for pin change\n",
        "2. Enter 2 for balance check\n",
        "3. Enter 3 for withdrawl\n",
        "4. Enter 4 for exit\n",
        "\"\"\")\n",
        "\n",
        "if menu == '1':\n",
        "  print('pin change')\n",
        "elif menu == '2':\n",
        "  print('balance')\n",
        "else:\n",
        "  print('exit')"
      ],
      "metadata": {
        "id": "p0ukOBWzZKqu"
      },
      "execution_count": null,
      "outputs": []
    },
    {
      "cell_type": "markdown",
      "source": [
        "### **Write a menu-driven program**\n",
        "\n",
        "**cm to ft**\n",
        "\n",
        "**km to miles**\n",
        "\n",
        "**USD to INR**\n",
        "\n",
        "**exit**"
      ],
      "metadata": {
        "id": "9XacyR-4aReV"
      }
    },
    {
      "cell_type": "code",
      "source": [
        "menu = input(\"\"\" How can i help you\n",
        "1. cm to ft\n",
        "2. km to miles\n",
        "3. USD to INR\n",
        "4. exit\n",
        " \"\"\")\n",
        "if menu == '1':\n",
        "  cm = float(input(\"Enter the cm value : \"))\n",
        "  print(\"feet value is \", 0.032 * cm)\n",
        "elif menu == '2':\n",
        "  km = float(input(\"Enter the value of km\"))\n",
        "  print(\"miles value is : \", 0.62*km)\n",
        "elif menu == '3':\n",
        "  usd = float(input(\"Enter the amount in usd :\"))\n",
        "  print(\" the amount in INR is : \", 80 * usd)\n",
        "else:\n",
        "  print(\"Exit\")"
      ],
      "metadata": {
        "id": "7_iPiX-lZKtW"
      },
      "execution_count": null,
      "outputs": []
    },
    {
      "cell_type": "markdown",
      "source": [
        "## **Loops**\n",
        "\n",
        "\n",
        "\n",
        "```\n",
        "In computer programming, a loop is a sequence of instruction s that is continually repeated\n",
        "until a certain condition is reached.Loop is an entity by which we can repeat same thing/piece\n",
        "of code.\n",
        "In computer Programming, a Loop is used to execute a group of instructions or a block of code multiple times,\n",
        "without writing it repeatedly. The block of code is executed based on a certain condition.\n",
        "Loops are the control structures of a program.italicized text\n",
        "```\n",
        "\n"
      ],
      "metadata": {
        "id": "xTbgWss-c8Nt"
      }
    },
    {
      "cell_type": "code",
      "source": [
        "# in the real world, almost everything is cyclical, and therefore runs in a loop. The vibration of atoms, the rotation of the engine in your car (or the tires),\n",
        "#  eating food one spoonful at a time,"
      ],
      "metadata": {
        "id": "IziOact4ZKwV"
      },
      "execution_count": null,
      "outputs": []
    },
    {
      "cell_type": "code",
      "source": [
        "# Real life example is website shirt/mobile container contains image, discription.Each container has same structure but different\n",
        "# information we make only one container inside one loop and fetch the data from database every time when loop is running and every\n",
        "# time container will print"
      ],
      "metadata": {
        "id": "m-DISIRLZKyz"
      },
      "execution_count": null,
      "outputs": []
    },
    {
      "cell_type": "markdown",
      "source": [
        "### **Types of for Loop**\n",
        "\n",
        "\n",
        "```\n",
        "1. for loop¶\n",
        "2. while loop\n",
        "3. Nested Loop\n",
        "```\n",
        "\n",
        "\n",
        "```\n",
        "These loops are in php and java script  \n",
        ">do while loop\n",
        ">for eachloop\n",
        "```\n",
        "\n",
        "\n",
        "A \"For\" Loop is used to repeat a specific block of code a known number of times. For example, if we want to check the grade of every student in the class, we loop from 1 to that number. When the number of times is not known before hand, we use a \"While\" loop\n",
        "\n",
        "\n",
        "```\n",
        " we can use for loop and while loop at once\n",
        " we can use if else statement with while and for loop\n",
        "```\n",
        "\n"
      ],
      "metadata": {
        "id": "Sm5mvj2Fduz-"
      }
    },
    {
      "cell_type": "markdown",
      "source": [
        "### **For Loop**"
      ],
      "metadata": {
        "id": "-lmqmX6KfTgr"
      }
    },
    {
      "cell_type": "code",
      "source": [
        "# for loop in other languages like c , c++ and java\n",
        "for(i=0, i<10, i++){\n",
        "    code"
      ],
      "metadata": {
        "id": "msTk8iuVZK1V"
      },
      "execution_count": null,
      "outputs": []
    },
    {
      "cell_type": "code",
      "source": [
        "# for loop in python\n",
        "# two things for understanding java\n",
        "# 1. built in function range()\n",
        "# first number including in range but last one is not including(excluded)\n",
        "# In for loop you dont have to tell start value , end value and increment\n",
        "range(1, 11)\n",
        "# 1 to 10  numbers are generated\n",
        "# to see which numbers are generated , convert it into a type of data type which we can see\n",
        "list(range(1, 11))"
      ],
      "metadata": {
        "id": "_U5dv6xvZK31"
      },
      "execution_count": null,
      "outputs": []
    },
    {
      "cell_type": "code",
      "source": [
        "# there are 3 things in range function> range(start, stop[,step])\n",
        "# if we put just one number we consider it as (stop)last number not the first , (start)first numbe will be zero\n",
        "list(range(5))"
      ],
      "metadata": {
        "id": "GY98vU_vZK6x"
      },
      "execution_count": null,
      "outputs": []
    },
    {
      "cell_type": "code",
      "source": [
        "# step > increase or decrease the gap between numbers, default gap between numbers is one\n",
        "list(range(1, 11,2))"
      ],
      "metadata": {
        "id": "v7jvnCcmZLAO"
      },
      "execution_count": null,
      "outputs": []
    },
    {
      "cell_type": "code",
      "source": [
        "# backword counting\n",
        "#a= list(range(10,1 -2))\n",
        "a= list(range(9, 1, 2))\n",
        "print(a)"
      ],
      "metadata": {
        "id": "ZvhjndE7ZLD4"
      },
      "execution_count": null,
      "outputs": []
    },
    {
      "cell_type": "code",
      "source": [
        "# sequence > order ....> output of something in order\n",
        "# sequence for string\n",
        "\"jhang\"\n",
        "[\"Multan\",\"lahore\",\"APS\"]\n",
        "# list , tuples, sets and dictionaries are sequence"
      ],
      "metadata": {
        "id": "L-sPY3m-ZLGv"
      },
      "execution_count": null,
      "outputs": []
    },
    {
      "cell_type": "markdown",
      "source": [
        "#### **for loop will iterate on sequence or on range functions**"
      ],
      "metadata": {
        "id": "_ES-ooUCf2yD"
      }
    },
    {
      "cell_type": "code",
      "source": [
        "## Iteration of for loop for range function\n",
        "for i in range(1, 11):\n",
        "    print(i)\n",
        "\n",
        "#for in range(1,11, 2)"
      ],
      "metadata": {
        "id": "05xUuCf3f3Hq"
      },
      "execution_count": null,
      "outputs": []
    },
    {
      "cell_type": "code",
      "source": [
        "for i in range(10, 1, -2):\n",
        "    print(i)"
      ],
      "metadata": {
        "id": "8L7tqf3pf3K6"
      },
      "execution_count": null,
      "outputs": []
    },
    {
      "cell_type": "code",
      "source": [
        "for i in range(5,0, -1):\n",
        "    print(i)"
      ],
      "metadata": {
        "id": "5epzGy3rf3N4"
      },
      "execution_count": null,
      "outputs": []
    },
    {
      "cell_type": "code",
      "source": [
        "## for loop for sequence/character\n",
        "for i in \"Jhang\":\n",
        "    print(i)\n",
        "\n",
        "# we give iterable object to the for loop and for loop will iterate on it, when string or sequence and range will end , iteration of loop will end/ terminate,\n",
        "# there will be no need to give termiation and increment"
      ],
      "metadata": {
        "id": "bDFn7840f3Qj"
      },
      "execution_count": null,
      "outputs": []
    },
    {
      "cell_type": "code",
      "source": [
        "# sequence eg..> list\n",
        "for i in [1,2,3,4,5]:\n",
        "    print(i)"
      ],
      "metadata": {
        "id": "XCD6K75Ef3T5"
      },
      "execution_count": null,
      "outputs": []
    },
    {
      "cell_type": "code",
      "source": [
        "# for tuples\n",
        "for i in (1, 2, 3,4):\n",
        "    print(i)"
      ],
      "metadata": {
        "id": "bVvaVeDqf3Wk"
      },
      "execution_count": null,
      "outputs": []
    },
    {
      "cell_type": "code",
      "source": [
        "# for sets\n",
        "for i in {1,2,3,4}:\n",
        "    print(i)"
      ],
      "metadata": {
        "id": "F17K5MmHf3ZN"
      },
      "execution_count": null,
      "outputs": []
    },
    {
      "cell_type": "markdown",
      "source": [
        "**Example Program: 1**"
      ],
      "metadata": {
        "id": "e6gSyz64iDGp"
      }
    },
    {
      "cell_type": "code",
      "source": [
        "# Program - The current population of a town is 10000. The population of the town is increasing at the rate of 10% per year.\n",
        "# You have to write a program to find out the population at the end of each of the last 10 years."
      ],
      "metadata": {
        "id": "d22yaWDsiIh9"
      },
      "execution_count": null,
      "outputs": []
    },
    {
      "cell_type": "code",
      "source": [
        "cp = 10000\n",
        "# find population\n",
        "r = 10\n",
        "i = 2030\n",
        "for i in range(2030, 2020,-1):\n",
        "    print(i, cp)\n",
        "# in previous 10 year population will decrease\n",
        "    cp = cp - 0.1 * cp\n",
        "\n",
        "# formula\n",
        "# 10 year = P(1+r/100)\n",
        "# 10 year = P(1+10/100)\n",
        "# print(10 year)\n",
        "\n",
        "# 10 % of 9000 population is 999"
      ],
      "metadata": {
        "id": "i_3rQjQuiL3l"
      },
      "execution_count": null,
      "outputs": []
    },
    {
      "cell_type": "code",
      "source": [
        "#Right code\n",
        "curr_pop = 10000\n",
        "\n",
        "for i in range(10,0,-1):\n",
        "  print(i,curr_pop)\n",
        "  curr_pop = curr_pop/1.1"
      ],
      "metadata": {
        "id": "RrMAkh0biQEb"
      },
      "execution_count": null,
      "outputs": []
    },
    {
      "cell_type": "markdown",
      "source": [
        "#### **While Loop/Iteration Block Code**"
      ],
      "metadata": {
        "id": "OPajGEYcglSY"
      }
    },
    {
      "cell_type": "code",
      "source": [
        "# syntax in c and java languages\n",
        " while(condition){\n",
        "       code\n",
        "}"
      ],
      "metadata": {
        "id": "v1Gq833IglrN"
      },
      "execution_count": null,
      "outputs": []
    },
    {
      "cell_type": "code",
      "source": [
        "# suntax in python\n",
        "while condition:\n",
        "    code"
      ],
      "metadata": {
        "id": "fFQoG2M0gluj"
      },
      "execution_count": null,
      "outputs": []
    },
    {
      "cell_type": "markdown",
      "source": [
        "### **Example Programs**"
      ],
      "metadata": {
        "id": "L8oFXCveg4vt"
      }
    },
    {
      "cell_type": "code",
      "source": [
        "# write a program about asking from user that which number of table he want to print?"
      ],
      "metadata": {
        "id": "HmSFgi_xglxx"
      },
      "execution_count": null,
      "outputs": []
    },
    {
      "cell_type": "code",
      "source": [
        "# we convert user input (which is string) into integer bcz we have to apply mathematical operation\n",
        "num = int(input(\"Enter a number\"))\n",
        "i = 1\n",
        "while i<11:\n",
        "    print(num * i)\n",
        "    #print(number,\"*\",i, \"=\", num * i)\n",
        "    #i+=1\n",
        "    i = i +1"
      ],
      "metadata": {
        "id": "udeERC8Rgl0r"
      },
      "execution_count": null,
      "outputs": []
    },
    {
      "cell_type": "markdown",
      "source": [
        "**Implimentation of if else and loop**"
      ],
      "metadata": {
        "id": "85276OXchYVw"
      }
    },
    {
      "cell_type": "code",
      "source": [
        "# we can use if and else with loops\n",
        "# Write a program/game code in which program select the random number from 1 to 100 which will be the jackpot number. user have to\n",
        "# guess that number. Program ask to the user guess that number?\n",
        "# for example jackpot number is 50, then user have to guess that number. You ask to usser guess that number? if user select 25 then\n",
        "# a notification occurs that it is wrong guess higher ? if user select 60 then program will said it is wrong, guess lower. Then user\n",
        "# select 50 then program will say it is correct.\n",
        "#"
      ],
      "metadata": {
        "id": "Q5jhzr8Bgl3k"
      },
      "execution_count": null,
      "outputs": []
    },
    {
      "cell_type": "code",
      "source": [
        "# x= 2\n",
        "x = int(input (\"Enter the number : \"))\n",
        "while x < 8:\n",
        "    print(x)\n",
        "    x += 1\n",
        "    # x = x + 1\n",
        "    # x = 2 + 1\n",
        "else:\n",
        "    print(\"limit cross\")\n",
        "\n",
        "# when loop will break , you can use the else statement."
      ],
      "metadata": {
        "id": "Xt2AsEgcgl6M"
      },
      "execution_count": null,
      "outputs": []
    },
    {
      "cell_type": "code",
      "source": [
        "#\n",
        "i = 100\n",
        "num = int(input(i<100))\n",
        "if i > 100:\n",
        "    print(\"number is wrong\")\n",
        "\n",
        "else:\n",
        "    print(\"number is correct\")"
      ],
      "metadata": {
        "id": "-9x63no0gl9c"
      },
      "execution_count": null,
      "outputs": []
    },
    {
      "cell_type": "code",
      "source": [
        "# import keyword is ussed for importing module , inother languages we use #include instead\n",
        "# randint() function return random integer in range[a,b], including both end points\n",
        "import random\n",
        "jackpot = random.randint(1, 100)\n",
        "guess = int(input(\"Guess a number\"))\n",
        "counter = 1\n",
        "while guess != jackpot:\n",
        "    if guess < jackpot:\n",
        "        print(\"Guess higher\")\n",
        "    else:\n",
        "        print(\"Guess lower\")\n",
        "    guess = int(input(\"Guess a number\"))\n",
        "    counter +=1\n",
        "print(\"Good, right guess\")\n",
        "print(\"You took\", counter, \"attempt\")"
      ],
      "metadata": {
        "id": "t0xgtMqZgmAL"
      },
      "execution_count": null,
      "outputs": []
    },
    {
      "cell_type": "code",
      "source": [
        "import random\n",
        "gamenum = random.randint(1, 200)\n",
        "num = int(input(\"Enter a random number\"))\n",
        "counter = 1\n",
        "while num != gamenum:\n",
        "    if num < gamenum:\n",
        "        print(\"enter higher number\")\n",
        "    else:\n",
        "        print(\"enter less number\")\n",
        "    gamenum = int(input(\"Enter a higher\"))\n",
        "    counter += 1\n",
        "print(\"Right\")\n",
        "print(\"number of count\", counter)"
      ],
      "metadata": {
        "id": "nVWgD9v_gmC9"
      },
      "execution_count": null,
      "outputs": []
    },
    {
      "cell_type": "code",
      "source": [
        "#\n",
        "import random\n",
        "jackpot = random.randint(1, 10)\n",
        "user = int(input(\"Enter a number : \"))\n",
        "# while loop run untill the jackpot number is equal to user guess\n",
        "while jackpot != user:\n",
        "\n",
        "    if jackpot<user:\n",
        "        print(\"num is less\")\n",
        "    user = int(input(\"Enter higher number\"))\n",
        "\n",
        "    elif jackpot > user:\n",
        "        print(\"num is greater \")\n",
        "    user = int(input(\"Enter less number\"))\n",
        "# outside loop\n",
        "else:\n",
        "    print(\"correct \")"
      ],
      "metadata": {
        "id": "ZVD9hQAzgmFr"
      },
      "execution_count": null,
      "outputs": []
    },
    {
      "cell_type": "markdown",
      "source": [
        "### **Nested loop**\n",
        "\n",
        "\n",
        "```\n",
        "Loop inside the loop is called nested loop\n",
        "\n",
        "**example**\n",
        "if you want to display the categories products. you will run loop first for category and then run nested loop for printing\n",
        "products inside the loop\n",
        "```\n",
        "\n"
      ],
      "metadata": {
        "id": "p21bT9jBiVVT"
      }
    },
    {
      "cell_type": "code",
      "source": [
        "# if you want to know every child name inside the 5 class,you will go for every class and then know name of children\n",
        "# if you want to print 1 value and inside it you want to print many repeated values\n",
        "# make the pair of numbers\n",
        "for i in range (1,8):\n",
        "    for j in range(1,6):\n",
        "        print(i,j)"
      ],
      "metadata": {
        "id": "vhWomAOfgmI1"
      },
      "execution_count": null,
      "outputs": []
    },
    {
      "cell_type": "code",
      "source": [
        "# Pattern 3\n",
        "1\n",
        "121\n",
        "12321\n",
        "1234321"
      ],
      "metadata": {
        "id": "sMj4y2OnjaUd"
      },
      "execution_count": null,
      "outputs": []
    },
    {
      "cell_type": "code",
      "source": [
        "rows = int(input('enter number of rows'))\n",
        "\n",
        "for i in range(1,rows+1):\n",
        "    print(rows)"
      ],
      "metadata": {
        "id": "wHVoh00GgmLs"
      },
      "execution_count": null,
      "outputs": []
    },
    {
      "cell_type": "code",
      "source": [
        "rows = int(input('enter number of rows'))\n",
        "\n",
        "for i in range(1,rows+1):\n",
        "  for j in range(1,4):\n",
        "    print(rows, j)"
      ],
      "metadata": {
        "id": "KtfI0FNbgmOd"
      },
      "execution_count": null,
      "outputs": []
    },
    {
      "cell_type": "code",
      "source": [
        "#\n",
        "num = int(input(\"Enter a number : \"))\n",
        "for i in range (1,num +1):\n",
        "    for j in range(1, num +1):\n",
        "        print(i,j)"
      ],
      "metadata": {
        "id": "ggMxZFxogmRS"
      },
      "execution_count": null,
      "outputs": []
    },
    {
      "cell_type": "code",
      "source": [
        "# j loop will execute untill its range will complete. and then go to the next i value\n",
        "rows = int(input('enter number of rows'))\n",
        "\n",
        "for i in range(1,rows+1):\n",
        "  for j in range(1,i+1):\n",
        "    print(i, j)"
      ],
      "metadata": {
        "id": "nHeTgXd0jMNF"
      },
      "execution_count": null,
      "outputs": []
    },
    {
      "cell_type": "code",
      "source": [
        "rows = int(input('enter number of rows'))\n",
        "\n",
        "for i in range(1,rows+1):\n",
        "  for j in range(1,i+1):\n",
        "    print(rows)"
      ],
      "metadata": {
        "id": "eXJRcolijMTQ"
      },
      "execution_count": null,
      "outputs": []
    },
    {
      "cell_type": "code",
      "source": [
        "rows = int(input('enter number of rows'))\n",
        "\n",
        "for i in range(1,rows+1):\n",
        "  for j in range(1,i+1):\n",
        "    print(j, end = '')\n",
        "  print()"
      ],
      "metadata": {
        "id": "rHia7jizjMXY"
      },
      "execution_count": null,
      "outputs": []
    },
    {
      "cell_type": "code",
      "source": [
        "rows = int(input('enter number of rows'))\n",
        "\n",
        "for i in range(1,rows+1):\n",
        "  for j in range(j,i+1):\n",
        "    print(j, end = '')\n",
        "  print()"
      ],
      "metadata": {
        "id": "gwMaM7KzjMaq"
      },
      "execution_count": null,
      "outputs": []
    },
    {
      "cell_type": "code",
      "source": [
        "rows = int(input('enter number of rows'))\n",
        "\n",
        "for i in range(1,rows+1):\n",
        "  for j in range(1,i+1):\n",
        "    print(j,end='')\n",
        "      # To reduce the loop and start the k loop at the end of j loop, after i+1,we start k loop from i-1,\n",
        "    # 0 is not included, so it will stop at 1\n",
        "  for k in range(i-1,0,-1):\n",
        "    print(k,end='')\n",
        "\n",
        "  print()"
      ],
      "metadata": {
        "id": "X2_cBHcrjMhE"
      },
      "execution_count": null,
      "outputs": []
    },
    {
      "cell_type": "markdown",
      "source": [
        "**Example Nested Loop:**"
      ],
      "metadata": {
        "id": "fcILypSTjrpf"
      }
    },
    {
      "cell_type": "code",
      "source": [
        "rows = int(input('enter number of rows'))\n",
        "\n",
        "for i in range(1,rows+1):\n",
        "    print(\"*\")"
      ],
      "metadata": {
        "id": "iFZ7cy_QjqVD"
      },
      "execution_count": null,
      "outputs": []
    },
    {
      "cell_type": "code",
      "source": [
        "rows = int(input('enter number of rows'))\n",
        "\n",
        "for i in range(1,rows+1):\n",
        "  for j in range(1,i+1):\n",
        "    print('*')\n",
        "  print()"
      ],
      "metadata": {
        "id": "8QmfV9UDjztj"
      },
      "execution_count": null,
      "outputs": []
    },
    {
      "cell_type": "code",
      "source": [
        "# when we use end = ''\n",
        "# line is changing due to  end = '/n'\n",
        "rows = int(input('enter number of rows'))\n",
        "# at first due ti 1 value of i , inside loop will move only once\n",
        "# for 2 value of i , inside loop will move two times\n",
        "for i in range(1,rows+1):\n",
        "  for j in range(1,i+1):\n",
        "    print('*', end = '')\n",
        "      #  because we remove /n, due to which although row is changing but line is not , we remove /n\n",
        "    #changing\n",
        "  print()\n",
        "# out side the loop,  we will not print anything we just use the print function to change the line"
      ],
      "metadata": {
        "id": "BuOS11WjjzxC"
      },
      "execution_count": null,
      "outputs": []
    },
    {
      "cell_type": "markdown",
      "source": [
        "### **Loop Controll statements**\n",
        "#### **Break statements**\n",
        "\n",
        "break looop at specific condition. it is useful at linear searching"
      ],
      "metadata": {
        "id": "jLa6ALQJkEJJ"
      }
    },
    {
      "cell_type": "code",
      "source": [
        "# Break example\n",
        "# searching in databse is an example of break statement.if you searrch  for a man name and his name is at 58 number/line. aftre this\n",
        "# your loop execution will terminate"
      ],
      "metadata": {
        "id": "-SujKlUMjz00"
      },
      "execution_count": null,
      "outputs": []
    },
    {
      "cell_type": "code",
      "source": [
        "for i in range (1,10):\n",
        "    if i == 5:\n",
        "        break\n",
        "    print(i)"
      ],
      "metadata": {
        "id": "1mZuKyEajz4B"
      },
      "execution_count": null,
      "outputs": []
    },
    {
      "cell_type": "code",
      "source": [
        "lower = int(input('enter lower range'))\n",
        "upper = int(input('enter upper range'))\n",
        "\n",
        "for i in range(lower,upper+1):\n",
        "  for j in range(2,i):\n",
        "    if i%j == 0:\n",
        "      break\n",
        "  else:\n",
        "    print(i)"
      ],
      "metadata": {
        "id": "bEucijF7kWnq"
      },
      "execution_count": null,
      "outputs": []
    },
    {
      "cell_type": "markdown",
      "source": [
        "#### **Continue Statement**"
      ],
      "metadata": {
        "id": "hUMvKuJDkaJi"
      }
    },
    {
      "cell_type": "code",
      "source": [
        "# To skip the particular iteration\n",
        "# Example in real life\n",
        "#  In ecommerce website we have to skip those products which are out of stock.\n",
        "# WE dont want to print those products which are out of stock.\n",
        "# If one product is out of stock , we will not print that product and continue for next,\n",
        "# 2 . Students absent in class."
      ],
      "metadata": {
        "id": "naL03BRukWwu"
      },
      "execution_count": null,
      "outputs": []
    },
    {
      "cell_type": "code",
      "source": [
        "# continue at specific condition\n",
        "for i in range(1,10):\n",
        "    if i == 5:\n",
        "        continue\n",
        "    print(i)"
      ],
      "metadata": {
        "id": "rh4MlywUkW3M"
      },
      "execution_count": null,
      "outputs": []
    },
    {
      "cell_type": "markdown",
      "source": [
        "#### **Pass Statements**"
      ],
      "metadata": {
        "id": "_n5C6Cvfkjsu"
      }
    },
    {
      "cell_type": "code",
      "source": [
        "# rest code for future\n",
        "# pass is saying please dont throw an error.\n",
        "for i in range(1,10):\n",
        "    pass"
      ],
      "metadata": {
        "id": "JPtGbPeCkW6r"
      },
      "execution_count": null,
      "outputs": []
    }
  ]
}