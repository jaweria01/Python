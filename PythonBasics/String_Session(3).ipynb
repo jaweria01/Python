{
 "cells": [
  {
   "cell_type": "markdown",
   "id": "831db136-1030-4df9-a133-9320b6fb4584",
   "metadata": {},
   "source": [
    "## Strings In details:"
   ]
  },
  {
   "cell_type": "code",
   "execution_count": null,
   "id": "759fd73f-e133-4ad9-93fa-fd248e5a83ff",
   "metadata": {},
   "outputs": [],
   "source": [
    "Strings are sequence of Characters\n",
    "\n",
    "In Python specifically, strings are a sequence of Unicode Characters\n",
    "In other language , we talk about asscii characters.\n",
    "\n",
    "Creating Strings\n",
    "Accessing Strings\n",
    "Adding Chars to Strings\n",
    "Editing Strings\n",
    "Deleting Strings\n",
    "Operations on Strings\n",
    "String Functions\n",
    "\n",
    "# Earlier, all computers were 8bit computers,to store any character 8bit value was used, 8 bit means maximum 256bit. this is very small\n",
    "# range of storing characters in computer,then people realize that only english language is not necessary for computr other languages\n",
    "# also can be used, so assci is start to fail, which was based on assci character.then programmer bring 16 bit character set ,and this is\n",
    "# called uni code 16 bit means combination of 2^16bits can be used\n",
    "# so you can use alot of characters of different laguages, even the smily emogies are using are can be store, To store many character\n",
    "# unicode is invented,All python characters are unicode\n",
    "# machine can understand the human language like strings or sequence of characters or alphabets.\n",
    "# convert characters into ascii value and then convert it into binary numbers"
   ]
  },
  {
   "cell_type": "markdown",
   "id": "030373c4-9af4-4eb0-81cb-60623931a929",
   "metadata": {},
   "source": [
    "### String Creation"
   ]
  },
  {
   "cell_type": "code",
   "execution_count": 1,
   "id": "11e16cde-6ec3-4fd5-a821-d6cc6d50d97f",
   "metadata": {},
   "outputs": [
    {
     "name": "stdout",
     "output_type": "stream",
     "text": [
      "Hello\n"
     ]
    }
   ],
   "source": [
    "# Creating\n",
    "# single inverted commas\n",
    "\n",
    "c = 'Hello'\n",
    "print(c)"
   ]
  },
  {
   "cell_type": "code",
   "execution_count": 2,
   "id": "f3917a5c-e58c-4cc9-b076-0d95592508f9",
   "metadata": {},
   "outputs": [
    {
     "name": "stdout",
     "output_type": "stream",
     "text": [
      "Hello\n"
     ]
    }
   ],
   "source": [
    "# double inverted commmas\n",
    "c = \"Hello\"\n",
    "print(c)"
   ]
  },
  {
   "cell_type": "code",
   "execution_count": 3,
   "id": "b3d95eb2-19ab-475a-b030-844f5d0fcafd",
   "metadata": {},
   "outputs": [
    {
     "name": "stdout",
     "output_type": "stream",
     "text": [
      "Hello\n"
     ]
    }
   ],
   "source": [
    "c = '''Hello'''\n",
    "print(c)\n",
    "# multi line strings"
   ]
  },
  {
   "cell_type": "code",
   "execution_count": 4,
   "id": "85ca6194-a548-435b-806e-977a0ea026d6",
   "metadata": {},
   "outputs": [
    {
     "name": "stdout",
     "output_type": "stream",
     "text": [
      "Hello\n"
     ]
    }
   ],
   "source": [
    "c = \"\"\"Hello\"\"\"\n",
    "print(c)"
   ]
  },
  {
   "cell_type": "code",
   "execution_count": 5,
   "id": "ae4e4525-3771-41d9-a1b9-a055efac7428",
   "metadata": {},
   "outputs": [
    {
     "data": {
      "text/plain": [
       "'Hello'"
      ]
     },
     "execution_count": 5,
     "metadata": {},
     "output_type": "execute_result"
    }
   ],
   "source": [
    "c = str(\"Hello\")\n",
    "c"
   ]
  },
  {
   "cell_type": "markdown",
   "id": "e23f745a-4125-47f5-8207-dfcb1c28f447",
   "metadata": {},
   "source": [
    "### Accessing Substrings from a String\n",
    "#### Concept of Indexing & Extracting characters"
   ]
  },
  {
   "cell_type": "markdown",
   "id": "fcdd6b93-8e7f-4378-9a24-093dcd32025a",
   "metadata": {},
   "source": [
    "#### Concept of Indexing"
   ]
  },
  {
   "cell_type": "code",
   "execution_count": 6,
   "id": "644b46dd-5346-4fff-9b15-58847fe79863",
   "metadata": {},
   "outputs": [
    {
     "name": "stdout",
     "output_type": "stream",
     "text": [
      "hello\n"
     ]
    }
   ],
   "source": [
    "# Concept of Indexing\n",
    "# every character has indexing, you can drive only one character at one time\n",
    "c = \"hello\"\n",
    "print(c)"
   ]
  },
  {
   "cell_type": "code",
   "execution_count": 7,
   "id": "6b3e5508-0874-4b02-b56d-8009187e5e93",
   "metadata": {},
   "outputs": [
    {
     "name": "stdout",
     "output_type": "stream",
     "text": [
      "h\n"
     ]
    }
   ],
   "source": [
    "# extract/print the character according to index\n",
    "print(c[0])"
   ]
  },
  {
   "cell_type": "code",
   "execution_count": 15,
   "id": "59c843c4-f7db-4b97-8907-fe62f80dc8bc",
   "metadata": {},
   "outputs": [
    {
     "name": "stdout",
     "output_type": "stream",
     "text": [
      "e\n",
      "o\n"
     ]
    }
   ],
   "source": [
    "# Types of Indexing\n",
    "# Postive Indexing    .....> left to right  >start from zero\n",
    "c = \"Hello\"\n",
    "print(c[1])\n",
    "# Negative Indexing   .....> right to left  > start from -1\n",
    "# without even knowing what is the length of string, you can print last charater\n",
    "\n",
    "print(c[-1])"
   ]
  },
  {
   "cell_type": "markdown",
   "id": "14276e91-008c-4aa1-887b-4c182f168e1c",
   "metadata": {},
   "source": [
    "#### Concept of Sclicing\n",
    "Extract multiple characters at once, you will provide a range"
   ]
  },
  {
   "cell_type": "markdown",
   "id": "d8f93aee-5060-4c3e-82ae-5be2f4f8814e",
   "metadata": {},
   "source": [
    "#### Slicing with positive Index"
   ]
  },
  {
   "cell_type": "code",
   "execution_count": null,
   "id": "1bd04357-3e61-4be0-8622-71cb1d681d5e",
   "metadata": {},
   "outputs": [],
   "source": [
    "#  In positive indexing ,for positive indexing,left shulde be small, otherwise empty string will be the answer\n",
    "# In positive indexing ,for negative steps, left should be big otherwise empty string will be the answer"
   ]
  },
  {
   "cell_type": "code",
   "execution_count": 9,
   "id": "5fa06cef-95a4-4ae8-aae2-de131d987cb0",
   "metadata": {},
   "outputs": [
    {
     "name": "stdout",
     "output_type": "stream",
     "text": [
      "Jawe\n"
     ]
    }
   ],
   "source": [
    "# startindex: lastindexing: step                 ....>(colon)\n",
    "# last index is excluding\n",
    "c = \"Jaweria\"\n",
    "print(c[0:4])"
   ]
  },
  {
   "cell_type": "code",
   "execution_count": 10,
   "id": "83e45fa1-6822-4425-a807-d4a505fc5b7a",
   "metadata": {},
   "outputs": [
    {
     "name": "stdout",
     "output_type": "stream",
     "text": [
      "weria\n"
     ]
    }
   ],
   "source": [
    "# you can skip 2nd parameter (index)\n",
    "# skip from specfic index to the end\n",
    "# from 2 index to end\n",
    "print(c[2:])"
   ]
  },
  {
   "cell_type": "code",
   "execution_count": 11,
   "id": "33179597-5567-419a-8e86-fba08bea01a7",
   "metadata": {},
   "outputs": [
    {
     "name": "stdout",
     "output_type": "stream",
     "text": [
      "Jawe\n"
     ]
    }
   ],
   "source": [
    "# you can skip first parameter (index)\n",
    "# skip from start to 4\n",
    "print(c[:4])"
   ]
  },
  {
   "cell_type": "markdown",
   "id": "649eb6b9-f8c4-46da-9bda-2a2a31467194",
   "metadata": {},
   "source": [
    "#### Giving The steps size"
   ]
  },
  {
   "cell_type": "code",
   "execution_count": 16,
   "id": "42805b56-e7c2-4245-8fe2-04ff8dbb3df3",
   "metadata": {},
   "outputs": [
    {
     "name": "stdout",
     "output_type": "stream",
     "text": [
      "Hlo\n"
     ]
    }
   ],
   "source": [
    "# steps sizing /jumpiing\n",
    "# In positive indexing , left shulde be small, otherwise empty string will be the answer\n",
    "s = \"Hello world\"\n",
    "print(s[0:6:2])\n",
    "\n",
    "# start from 0 to up to 5 and skip 1"
   ]
  },
  {
   "cell_type": "code",
   "execution_count": 13,
   "id": "a6e9ada6-d124-461c-b870-17e85f29aabc",
   "metadata": {},
   "outputs": [
    {
     "name": "stdout",
     "output_type": "stream",
     "text": [
      "wr\n"
     ]
    }
   ],
   "source": [
    "c= \"Jaweria\"\n",
    "print(c[2:6:2])"
   ]
  },
  {
   "cell_type": "code",
   "execution_count": null,
   "id": "0ad719d2-b3fd-44db-aa4c-d14ac752b328",
   "metadata": {},
   "outputs": [],
   "source": [
    "d = \"Helloworld\"\n",
    "print(d[0:5:2])"
   ]
  },
  {
   "cell_type": "code",
   "execution_count": null,
   "id": "f584e28d-ff54-4aeb-b85c-94efa87413a6",
   "metadata": {},
   "outputs": [],
   "source": [
    "c= \"Jaweria\"\n",
    "# 0 --- to  n+1\n",
    "# usually last is not included n-1\n",
    "print(c[4:7:1])"
   ]
  },
  {
   "cell_type": "code",
   "execution_count": 25,
   "id": "0bfccc1d-1c77-4dcd-bd4a-09d2aad2bf35",
   "metadata": {},
   "outputs": [
    {
     "name": "stdout",
     "output_type": "stream",
     "text": [
      "Hlo\n"
     ]
    }
   ],
   "source": [
    "c = \"HelloWorld\"\n",
    "print(c[0:8:3])\n",
    "# start from 0 and skip 2 till 8"
   ]
  },
  {
   "cell_type": "code",
   "execution_count": 32,
   "id": "9fb6d561-954a-4829-8869-049786fb9f74",
   "metadata": {},
   "outputs": [
    {
     "name": "stdout",
     "output_type": "stream",
     "text": [
      "\n",
      "Siw\n"
     ]
    }
   ],
   "source": [
    "# Reverse the string by positive indexing\n",
    "# negative steps\n",
    "# In positive indexing ,for negative steps, left should be big otherwise empty string will be the answer\n",
    "t = \"JawriaSiddique\"\n",
    "print(t[0:6:-1])\n",
    "print(t[6:0:-2])"
   ]
  },
  {
   "cell_type": "code",
   "execution_count": 21,
   "id": "4e5d7cbc-f4f8-4a0c-98e1-dfc66eb811cf",
   "metadata": {},
   "outputs": [
    {
     "name": "stdout",
     "output_type": "stream",
     "text": [
      "ool\n"
     ]
    }
   ],
   "source": [
    "# step in reverse\n",
    "c = \"HelloWorld\"\n",
    "print(c[6:0:-2])"
   ]
  },
  {
   "cell_type": "code",
   "execution_count": 31,
   "id": "22dda7c2-bf07-4882-b4d4-0e4a5cc65479",
   "metadata": {},
   "outputs": [
    {
     "name": "stdout",
     "output_type": "stream",
     "text": [
      "Siw\n"
     ]
    }
   ],
   "source": [
    "t = \"JawriaSiddique\"\n",
    "print(t[6:0:-2])"
   ]
  },
  {
   "cell_type": "code",
   "execution_count": null,
   "id": "6ee3fbc7-49ef-4b1c-94cf-16f7bc1bfc10",
   "metadata": {},
   "outputs": [],
   "source": []
  },
  {
   "cell_type": "markdown",
   "id": "58aefb3b-91b5-486e-a4a3-01ef0ff5ad34",
   "metadata": {},
   "source": [
    "#### Slicing with negative index"
   ]
  },
  {
   "cell_type": "code",
   "execution_count": 45,
   "id": "83f31a17-fb40-4236-801f-d1789fede3e7",
   "metadata": {},
   "outputs": [
    {
     "name": "stdout",
     "output_type": "stream",
     "text": [
      "\n"
     ]
    }
   ],
   "source": [
    "#  in negative indexing, for negative steps ,  first number/left should large otherwise result will be empty\n",
    "#  in negative indexing, for positive steps ,  first number/left should small otherwise result will be empty\n",
    "a = \"Hello world\"\n",
    "print(a[-1:-5])"
   ]
  },
  {
   "cell_type": "code",
   "execution_count": 48,
   "id": "9db7eb8c-4457-4f56-9859-9d1b5fc49f82",
   "metadata": {},
   "outputs": [
    {
     "name": "stdout",
     "output_type": "stream",
     "text": [
      "\n"
     ]
    }
   ],
   "source": [
    "# to print the world in reverse by negative index\n",
    "b = \"worldIn\"\n",
    "print(b[-1:-5:2])"
   ]
  },
  {
   "cell_type": "code",
   "execution_count": null,
   "id": "34b0df6b-f5f6-4cc6-a1e5-d6b1bf7c3825",
   "metadata": {},
   "outputs": [],
   "source": [
    "c = \"jaweria\"\n",
    "print(c[1-4])"
   ]
  },
  {
   "cell_type": "code",
   "execution_count": 39,
   "id": "7621fb51-447c-4a1c-9a7d-6d8541e6f4a8",
   "metadata": {},
   "outputs": [
    {
     "name": "stdout",
     "output_type": "stream",
     "text": [
      "\n"
     ]
    }
   ],
   "source": [
    "d = \"Jaweria\"\n",
    "print(d[-1:-6:2])"
   ]
  },
  {
   "cell_type": "code",
   "execution_count": 44,
   "id": "173518f6-e457-4624-b357-11f9ca1afe64",
   "metadata": {},
   "outputs": [
    {
     "name": "stdout",
     "output_type": "stream",
     "text": [
      "\n"
     ]
    }
   ],
   "source": [
    " # -6 is not include\n",
    "d = \"arooba\"\n",
    "print(d[-1:-6:3])"
   ]
  },
  {
   "cell_type": "code",
   "execution_count": null,
   "id": "2def389a-39f9-48c7-a7e6-d013e2e617aa",
   "metadata": {},
   "outputs": [],
   "source": [
    "print(d[-1:-6:-2])"
   ]
  },
  {
   "cell_type": "code",
   "execution_count": null,
   "id": "6c02072b-60c0-4b9c-b55d-5763385b596e",
   "metadata": {},
   "outputs": [],
   "source": [
    "print(d[-7:-1:2])\n",
    "print(d[-1:-7:-1])# last one is not inlude\n",
    "print(d[-1:-7:-2])"
   ]
  },
  {
   "cell_type": "code",
   "execution_count": 34,
   "id": "5f195273-b659-4c03-b32c-c780f6c3e5a0",
   "metadata": {},
   "outputs": [
    {
     "name": "stdout",
     "output_type": "stream",
     "text": [
      "ool\n",
      "oWorl\n",
      "dlroWo\n"
     ]
    }
   ],
   "source": [
    "# last one is not included\n",
    "\n",
    "print(c[-6:-1:2])\n",
    "print(c[-6:-1:1])\n",
    "print(c[-1:-7:-1])\n",
    "#print(c[-7:-1:-1])"
   ]
  },
  {
   "cell_type": "code",
   "execution_count": null,
   "id": "16c5c7a8-3e16-4652-a15f-9dfd9a6bf3f1",
   "metadata": {},
   "outputs": [],
   "source": [
    "# famous synteex to reverse a string\n",
    "b = \"hello world\"\n",
    "print(b[::-1])"
   ]
  },
  {
   "cell_type": "markdown",
   "id": "a0ff9bac-35b0-41d6-a988-1e635480a30e",
   "metadata": {},
   "source": [
    "### Editing & Deleting"
   ]
  },
  {
   "cell_type": "code",
   "execution_count": 49,
   "id": "48523844-7075-4f51-8771-950d49aad2ae",
   "metadata": {},
   "outputs": [
    {
     "name": "stdout",
     "output_type": "stream",
     "text": [
      "hello\n"
     ]
    }
   ],
   "source": [
    "# want to change the character\n",
    "c= \"hello\"\n",
    "print(c)"
   ]
  },
  {
   "cell_type": "code",
   "execution_count": null,
   "id": "d39a1a24-2769-443f-82c9-a5afad0d57c3",
   "metadata": {},
   "outputs": [],
   "source": [
    "#c[0] = 'X'\n",
    "# item assignment/editing"
   ]
  },
  {
   "cell_type": "code",
   "execution_count": null,
   "id": "17d5576a-7821-4491-8e3f-c63ad3e6a4ac",
   "metadata": {},
   "outputs": [],
   "source": [
    "# Strings are immutable data type..we can not edit strings once they are created\n",
    "# you can completely reassign the string, but not change\n",
    "# you can not add the character also\n",
    "# you can not delete the specific characters of string\n",
    "# c[5] = \"X\""
   ]
  },
  {
   "cell_type": "code",
   "execution_count": null,
   "id": "cc02c1c1-57dd-4548-b7c8-c163886771f3",
   "metadata": {},
   "outputs": [],
   "source": [
    "## Deletion"
   ]
  },
  {
   "cell_type": "code",
   "execution_count": null,
   "id": "5abaf035-b051-45c8-9d16-f4be0787ccb4",
   "metadata": {},
   "outputs": [],
   "source": [
    "a = \"Arooba\"\n",
    "del a\n",
    "print(a)\n",
    " # a is not printing because a is deleted"
   ]
  },
  {
   "cell_type": "code",
   "execution_count": null,
   "id": "a147fc45-5f60-425a-bbcf-adb67d7d8aa3",
   "metadata": {},
   "outputs": [],
   "source": [
    "## deleting the particular string character..it does not work, because if particular character will be deleted then it means \n",
    "# changes will occurs in exixting string which is against the immutable characteristic of string\n",
    "b = \"hello\"\n",
    "# print(b)\n",
    "# del b[0]"
   ]
  },
  {
   "cell_type": "code",
   "execution_count": 51,
   "id": "fba0c797-9efe-458e-9950-354a18c855cb",
   "metadata": {},
   "outputs": [],
   "source": [
    "# if we delete the portion of string by using slicing\n",
    "# c = \"Hello\"\n",
    "# del (c[:4:1])"
   ]
  },
  {
   "cell_type": "code",
   "execution_count": 53,
   "id": "31e5caaa-4818-4960-85b9-6e2b380f3f39",
   "metadata": {},
   "outputs": [],
   "source": [
    "# c = \"Helloworld\"\n",
    "# del (c[-1:-4:2])\n",
    "\n",
    "# TypeError: 'str' object does not support item deletion"
   ]
  },
  {
   "cell_type": "markdown",
   "id": "b8336ce1-e4fd-40d4-ae1b-8b2ea877d954",
   "metadata": {},
   "source": [
    "### Operation on Strings¶\n",
    "##### Arithmetic Operations\n",
    "##### Relational Operations\n",
    "##### Logical Operations\n",
    "##### Loops on Strings\n",
    "##### Membership Operations\n",
    "\n",
    "##### Only two arithmetic operations works on strings....> Plus Operators and multiplication operators"
   ]
  },
  {
   "cell_type": "code",
   "execution_count": null,
   "id": "4d17978a-74a1-4b4a-b15a-b9153b2f84f3",
   "metadata": {},
   "outputs": [],
   "source": [
    "# Plus operation....>Concatination\n",
    "\"Hello\" + \"World\""
   ]
  },
  {
   "cell_type": "code",
   "execution_count": null,
   "id": "09d6e3e6-6865-4b6b-a02f-10305c8abc09",
   "metadata": {},
   "outputs": [],
   "source": [
    "# spece as string\n",
    "\"Hello\" + \" \" + \"World\""
   ]
  },
  {
   "cell_type": "code",
   "execution_count": null,
   "id": "aafa5a2d-6406-44f1-8b2a-4d262f7e4c68",
   "metadata": {},
   "outputs": [],
   "source": [
    "# String Multiplication\n",
    "# To generate pattern for formatting\n",
    "print(\"*\" * 30)"
   ]
  },
  {
   "cell_type": "code",
   "execution_count": null,
   "id": "4a1eedf5-642d-496e-9604-10a7e4d9042c",
   "metadata": {},
   "outputs": [],
   "source": [
    "print(\"Jaweria@\" * 10)"
   ]
  },
  {
   "cell_type": "markdown",
   "id": "3c2ca3c6-2231-4079-85ba-e3586ada5e4f",
   "metadata": {},
   "source": [
    "#### Relational Operator\n",
    "##### <,>,==, !="
   ]
  },
  {
   "cell_type": "code",
   "execution_count": null,
   "id": "b0799b60-8fcd-46b0-9bfd-e9c11266f34f",
   "metadata": {},
   "outputs": [],
   "source": [
    "# Equal to\n",
    "\"Hello\" == \"World\""
   ]
  },
  {
   "cell_type": "code",
   "execution_count": null,
   "id": "b66fa839-3e15-467f-a99d-91e409577237",
   "metadata": {},
   "outputs": [],
   "source": [
    "\"Hello\" ==\"hello\"\n",
    "\"Hello\" ==\"Hello\""
   ]
  },
  {
   "cell_type": "code",
   "execution_count": null,
   "id": "8f462cc7-f48f-4657-b1e7-210bda38a589",
   "metadata": {},
   "outputs": [],
   "source": [
    "# not equal to\n",
    "\"Hello\" != \"World\""
   ]
  },
  {
   "cell_type": "code",
   "execution_count": 153,
   "id": "8a74205e-8e08-4bbd-a81c-856f7ba4ea83",
   "metadata": {},
   "outputs": [
    {
     "data": {
      "text/plain": [
       "False"
      ]
     },
     "execution_count": 153,
     "metadata": {},
     "output_type": "execute_result"
    }
   ],
   "source": [
    "# Greater & Less\n",
    "# Lexiographical comaparison\n",
    "# you will print in the basis of ASSCI value \n",
    "# the alphabet that comes first , will be small and that comes late in abc(Dictionary) , will be greater\n",
    "\"Ahmad pur Sial\"> \"Jhang\""
   ]
  },
  {
   "cell_type": "code",
   "execution_count": null,
   "id": "24e88765-6115-4297-af0e-63f153e63aa7",
   "metadata": {},
   "outputs": [],
   "source": [
    "\"Karachi\"<\"Lahore\""
   ]
  },
  {
   "cell_type": "code",
   "execution_count": 154,
   "id": "419d4621-ffb3-4000-ba94-b560e632a652",
   "metadata": {},
   "outputs": [
    {
     "data": {
      "text/plain": [
       "False"
      ]
     },
     "execution_count": 154,
     "metadata": {},
     "output_type": "execute_result"
    }
   ],
   "source": [
    "# Small ltters will be considered in large category... because they comes later / after large Alphabets\n",
    "\"jaweria\"< \"Jaweria\""
   ]
  },
  {
   "cell_type": "markdown",
   "id": "e7103326-dfa9-46f2-95c5-3816b156e889",
   "metadata": {},
   "source": [
    "#### Logical Operations\n",
    "##### and , or , not opertaor"
   ]
  },
  {
   "cell_type": "code",
   "execution_count": null,
   "id": "2031c0c4-6907-4813-acc3-e3c7d041ab3a",
   "metadata": {},
   "outputs": [],
   "source": [
    "# empty string mean ....> false(0)\n",
    "# non-empty string ....> True(1)\n",
    "# \"\" -> False\n",
    "# \"A\"-> true\n",
    "\n",
    "# 0 and 1\n",
    "# "
   ]
  },
  {
   "cell_type": "code",
   "execution_count": null,
   "id": "de39a290-42cd-4cd1-aea5-3e3af0b9f0e0",
   "metadata": {},
   "outputs": [],
   "source": [
    "# true and true = True\n",
    "# if both are true then answer is true\n",
    "# 1 and 1 = 1\n",
    "\"Hello\" and \"World\""
   ]
  },
  {
   "cell_type": "code",
   "execution_count": null,
   "id": "a9d11ada-0a11-4775-b34c-6fcb6914535f",
   "metadata": {},
   "outputs": [],
   "source": [
    "# true and false ...> false\n",
    "\"\" and \"hello\""
   ]
  },
  {
   "cell_type": "code",
   "execution_count": null,
   "id": "bfb83882-f3f3-4b77-96a5-f319c5015055",
   "metadata": {},
   "outputs": [],
   "source": [
    "# or Operators\n",
    "# true and false = true\n",
    "\"\" or \"Hello\""
   ]
  },
  {
   "cell_type": "code",
   "execution_count": null,
   "id": "ee055af2-8a63-4cd0-aba1-28a16f41359d",
   "metadata": {},
   "outputs": [],
   "source": [
    "# first is 1 (true), so it will print\n",
    "# python ny just first dekha or wo true tha\n",
    "\"Hello\" or \"world\""
   ]
  },
  {
   "cell_type": "code",
   "execution_count": null,
   "id": "82e83dd0-8d6e-4ed3-a8b0-051c0bfae35f",
   "metadata": {},
   "outputs": [],
   "source": [
    "# and operator check both if both are 1(true)\n",
    "# when and operator gain assurity then it will print last string/  (1)Trure\n",
    "\"Hello\" and \"world\""
   ]
  },
  {
   "cell_type": "code",
   "execution_count": null,
   "id": "e08f2257-5d46-4aa2-82a2-58367e425d3f",
   "metadata": {},
   "outputs": [],
   "source": [
    "# Not Operator\n",
    "# not operator gives apposite value"
   ]
  },
  {
   "cell_type": "code",
   "execution_count": null,
   "id": "da03a654-afe6-41ce-b0a5-0674fe981057",
   "metadata": {},
   "outputs": [],
   "source": [
    "# apposite of true is false, so apposite of non-empty string is false. because non-empty strings are true and empty are false\n",
    "not \"Hello\"\n",
    "print(not \"Hello\")"
   ]
  },
  {
   "cell_type": "code",
   "execution_count": null,
   "id": "b0a9da7c-9214-4523-861a-bdad5b024920",
   "metadata": {},
   "outputs": [],
   "source": [
    "# apposite of empty string is true \n",
    "not \"\""
   ]
  },
  {
   "cell_type": "markdown",
   "id": "b2143e42-c87a-44a6-b60a-5971105b91c2",
   "metadata": {},
   "source": [
    "### Loop Operators"
   ]
  },
  {
   "cell_type": "code",
   "execution_count": null,
   "id": "108d458c-25d7-4464-a887-c7dad97a0050",
   "metadata": {},
   "outputs": [],
   "source": [
    "# string in python is iterable\n",
    "c= \"hello world\"\n",
    "for i in c:\n",
    "    print(i)"
   ]
  },
  {
   "cell_type": "code",
   "execution_count": 54,
   "id": "cbec8873-b2ee-4c3f-a0bc-fd6ca2b51f95",
   "metadata": {},
   "outputs": [
    {
     "name": "stdout",
     "output_type": "stream",
     "text": [
      "l\n",
      "l\n",
      "o\n",
      " \n",
      "w\n"
     ]
    }
   ],
   "source": [
    "c = \"Hello world\"\n",
    "for i in c[2:7]:\n",
    "    print(i)"
   ]
  },
  {
   "cell_type": "code",
   "execution_count": 55,
   "id": "0c4d4406-3e49-4286-aeec-08a7a823e771",
   "metadata": {},
   "outputs": [
    {
     "name": "stdout",
     "output_type": "stream",
     "text": [
      "l\n",
      "o\n",
      "w\n"
     ]
    }
   ],
   "source": [
    "# i character skipping \n",
    "c = \"Hello world\"\n",
    "for i in c[2:7:2]:\n",
    "    print(i)"
   ]
  },
  {
   "cell_type": "code",
   "execution_count": 56,
   "id": "d0c9f085-815c-4b9b-9ed0-f2c04fda99c5",
   "metadata": {},
   "outputs": [
    {
     "name": "stdout",
     "output_type": "stream",
     "text": [
      "d\n",
      "l\n",
      "r\n",
      "o\n",
      "w\n",
      " \n",
      "o\n",
      "l\n",
      "l\n",
      "e\n",
      "H\n"
     ]
    }
   ],
   "source": [
    "c = \"Hello world\"\n",
    "for i in c[::-1]:\n",
    "    print(i)"
   ]
  },
  {
   "cell_type": "code",
   "execution_count": null,
   "id": "62eb5a70-6e2f-4235-9dde-7954b063adae",
   "metadata": {},
   "outputs": [],
   "source": [
    "for i in \"Jhang\":\n",
    "    print(\"Ahmad\")"
   ]
  },
  {
   "cell_type": "code",
   "execution_count": 151,
   "id": "5b1c0847-a98f-441a-8d7e-5bd86dd5da5e",
   "metadata": {},
   "outputs": [
    {
     "name": "stdout",
     "output_type": "stream",
     "text": [
      "7\n",
      "7\n",
      "7\n",
      "7\n"
     ]
    }
   ],
   "source": [
    "for i in range(1, 5):\n",
    "    print(7)"
   ]
  },
  {
   "cell_type": "markdown",
   "id": "92763beb-aea0-4dc8-b474-c37d4596f077",
   "metadata": {},
   "source": [
    "#### Membership Operator\n",
    "##### in , not in"
   ]
  },
  {
   "cell_type": "code",
   "execution_count": 57,
   "id": "bbf4244d-eb86-4125-83c2-259b03f3f288",
   "metadata": {},
   "outputs": [],
   "source": [
    "c = 'technology'"
   ]
  },
  {
   "cell_type": "code",
   "execution_count": 58,
   "id": "e09a8ebb-b0c8-4735-8acb-aa2bacc1c0e8",
   "metadata": {},
   "outputs": [
    {
     "data": {
      "text/plain": [
       "True"
      ]
     },
     "execution_count": 58,
     "metadata": {},
     "output_type": "execute_result"
    }
   ],
   "source": [
    "'l' in c"
   ]
  },
  {
   "cell_type": "code",
   "execution_count": 59,
   "id": "4e772263-3888-4630-909c-a86a3171a0bc",
   "metadata": {},
   "outputs": [
    {
     "data": {
      "text/plain": [
       "True"
      ]
     },
     "execution_count": 59,
     "metadata": {},
     "output_type": "execute_result"
    }
   ],
   "source": [
    "'h' in c"
   ]
  },
  {
   "cell_type": "code",
   "execution_count": 60,
   "id": "64e725a3-773e-49ff-a5e0-aa974dcd0d50",
   "metadata": {},
   "outputs": [
    {
     "data": {
      "text/plain": [
       "True"
      ]
     },
     "execution_count": 60,
     "metadata": {},
     "output_type": "execute_result"
    }
   ],
   "source": [
    "# not in\n",
    "'world' not in c"
   ]
  },
  {
   "cell_type": "markdown",
   "id": "9ce04f01-6ea6-47b5-ade9-975c3f85e595",
   "metadata": {},
   "source": [
    "## Functions in Strings:"
   ]
  },
  {
   "cell_type": "code",
   "execution_count": null,
   "id": "a73da896-afe2-4316-9bb3-39c558183f6f",
   "metadata": {},
   "outputs": [],
   "source": [
    "#### Common Functions\n",
    "##### Min()\n",
    "##### Max()\n",
    "##### Len()\n",
    "##### Sorted()\n",
    "# Capitalize()\n",
    "# Title()\n",
    "# Upper()\n",
    "# Lower()\n",
    "# Swapcase()\n",
    "# Count()\n",
    "# Find()\n",
    "# Index()\n",
    "# endswith()\n",
    "# startswith()\n",
    "# format()\n",
    "# isalnum()\n",
    "# isalpha()\n",
    "# isdigit()\n",
    "# isidentifie()\n",
    "# Split()\n",
    "# Join()\n",
    "# Replace()\n",
    "# strip()"
   ]
  },
  {
   "cell_type": "code",
   "execution_count": null,
   "id": "c19afdd2-d2b3-43d9-8c9d-76b34b433e03",
   "metadata": {},
   "outputs": [],
   "source": [
    "len('hello world')"
   ]
  },
  {
   "cell_type": "code",
   "execution_count": 148,
   "id": "b0349da3-ad4c-49b7-a284-6742ac8fedbe",
   "metadata": {},
   "outputs": [
    {
     "data": {
      "text/plain": [
       "3"
      ]
     },
     "execution_count": 148,
     "metadata": {},
     "output_type": "execute_result"
    }
   ],
   "source": [
    "# identifier can be pass as argument\n",
    "a = 'how'\n",
    "len(a)"
   ]
  },
  {
   "cell_type": "code",
   "execution_count": 62,
   "id": "e2026824-3b3d-41e3-a6fb-42eb4ef3d0e4",
   "metadata": {},
   "outputs": [
    {
     "data": {
      "text/plain": [
       "'w'"
      ]
     },
     "execution_count": 62,
     "metadata": {},
     "output_type": "execute_result"
    }
   ],
   "source": [
    "max('hello world')"
   ]
  },
  {
   "cell_type": "code",
   "execution_count": 149,
   "id": "e5d7b020-d057-4cd0-8dd3-2600f52e651a",
   "metadata": {},
   "outputs": [
    {
     "data": {
      "text/plain": [
       "'o'"
      ]
     },
     "execution_count": 149,
     "metadata": {},
     "output_type": "execute_result"
    }
   ],
   "source": [
    "a = 'hello'\n",
    "max(a)"
   ]
  },
  {
   "cell_type": "code",
   "execution_count": null,
   "id": "86dc3b07-5a44-4d0f-86a2-a9fe79563d65",
   "metadata": {},
   "outputs": [],
   "source": []
  },
  {
   "cell_type": "code",
   "execution_count": 64,
   "id": "3bfd4a4a-24cb-4af2-b209-3fd20343e8fc",
   "metadata": {},
   "outputs": [
    {
     "data": {
      "text/plain": [
       "'d'"
      ]
     },
     "execution_count": 64,
     "metadata": {},
     "output_type": "execute_result"
    }
   ],
   "source": [
    "min('helloworld')"
   ]
  },
  {
   "cell_type": "code",
   "execution_count": 61,
   "id": "f22dd97a-4600-46b2-968f-c1e4b59e9472",
   "metadata": {},
   "outputs": [
    {
     "data": {
      "text/plain": [
       "[' ', 'd', 'e', 'h', 'l', 'l', 'l', 'o', 'o', 'r', 'w']"
      ]
     },
     "execution_count": 61,
     "metadata": {},
     "output_type": "execute_result"
    }
   ],
   "source": [
    "# start from minum values\n",
    "sorted('hello world')"
   ]
  },
  {
   "cell_type": "code",
   "execution_count": 65,
   "id": "35fa9c1f-b6d9-4411-b07b-e11477f9728c",
   "metadata": {},
   "outputs": [
    {
     "data": {
      "text/plain": [
       "['w', 'r', 'o', 'o', 'l', 'l', 'l', 'h', 'e', 'd', ' ']"
      ]
     },
     "execution_count": 65,
     "metadata": {},
     "output_type": "execute_result"
    }
   ],
   "source": [
    "# Print the list in reverse\n",
    "sorted('hello world', reverse = True)"
   ]
  },
  {
   "cell_type": "code",
   "execution_count": 150,
   "id": "ba362028-366e-485d-88b7-dda0e8a48d27",
   "metadata": {},
   "outputs": [
    {
     "data": {
      "text/plain": [
       "['a', 'i', 'l']"
      ]
     },
     "execution_count": 150,
     "metadata": {},
     "output_type": "execute_result"
    }
   ],
   "source": [
    "a = 'ali'\n",
    "sorted(a)"
   ]
  },
  {
   "cell_type": "code",
   "execution_count": null,
   "id": "c565426c-baa1-4b2c-b043-899bfe145d9f",
   "metadata": {},
   "outputs": [],
   "source": [
    "#### Functions specific to string\n"
   ]
  },
  {
   "cell_type": "markdown",
   "id": "f3af445e-d928-4599-9247-95a31ca20c66",
   "metadata": {},
   "source": [
    "#### Capitalize/Title/Upper/Lower/Swapcase"
   ]
  },
  {
   "cell_type": "code",
   "execution_count": 66,
   "id": "d6d497ae-20a1-48cd-990d-d424bed81d54",
   "metadata": {},
   "outputs": [
    {
     "name": "stdout",
     "output_type": "stream",
     "text": [
      "Hello world\n",
      "hello world\n"
     ]
    }
   ],
   "source": [
    "s = 'hello world'\n",
    "print(s.capitalize())\n",
    "print(s)"
   ]
  },
  {
   "cell_type": "code",
   "execution_count": 67,
   "id": "6fc1f88e-97dc-4c70-a527-9fcf710d7026",
   "metadata": {},
   "outputs": [
    {
     "data": {
      "text/plain": [
       "'Hello World'"
      ]
     },
     "execution_count": 67,
     "metadata": {},
     "output_type": "execute_result"
    }
   ],
   "source": [
    "# firlst letter of sentence is capital\n",
    "s.title()"
   ]
  },
  {
   "cell_type": "code",
   "execution_count": 145,
   "id": "76d0650f-bad4-4e83-8e08-829d8aee7242",
   "metadata": {},
   "outputs": [],
   "source": [
    "# title(hello) no argument or identifier"
   ]
  },
  {
   "cell_type": "code",
   "execution_count": 147,
   "id": "97a35434-90fd-4f1a-bab5-b8ef104b074e",
   "metadata": {},
   "outputs": [],
   "source": [
    "# a = 'hello'\n",
    "# title(a)"
   ]
  },
  {
   "cell_type": "code",
   "execution_count": 68,
   "id": "3ce63a93-6672-4ea2-ad79-c789d8580e82",
   "metadata": {},
   "outputs": [
    {
     "data": {
      "text/plain": [
       "'HELLO WORLD'"
      ]
     },
     "execution_count": 68,
     "metadata": {},
     "output_type": "execute_result"
    }
   ],
   "source": [
    "s.upper()"
   ]
  },
  {
   "cell_type": "code",
   "execution_count": 73,
   "id": "9d572607-4869-407a-b980-6578a051c240",
   "metadata": {},
   "outputs": [
    {
     "data": {
      "text/plain": [
       "'hello world'"
      ]
     },
     "execution_count": 73,
     "metadata": {},
     "output_type": "execute_result"
    }
   ],
   "source": [
    "s.lower()"
   ]
  },
  {
   "cell_type": "code",
   "execution_count": 70,
   "id": "3036f391-787d-44ae-a872-d4328fd9f84b",
   "metadata": {},
   "outputs": [
    {
     "data": {
      "text/plain": [
       "'hello wolrd'"
      ]
     },
     "execution_count": 70,
     "metadata": {},
     "output_type": "execute_result"
    }
   ],
   "source": [
    "'Hello Wolrd'.lower()"
   ]
  },
  {
   "cell_type": "code",
   "execution_count": null,
   "id": "253a7251-97bb-4ccf-9879-ed5680e028d9",
   "metadata": {},
   "outputs": [],
   "source": [
    "'HeLlO WorLD'.swapcase()"
   ]
  },
  {
   "cell_type": "markdown",
   "id": "5f63940d-9125-4886-b832-371af7e5c996",
   "metadata": {},
   "source": [
    "#### Count/Find/Index"
   ]
  },
  {
   "cell_type": "code",
   "execution_count": null,
   "id": "5071afdc-bcd9-4dd2-860f-2291649043f3",
   "metadata": {},
   "outputs": [],
   "source": [
    "# To calculate the frequency"
   ]
  },
  {
   "cell_type": "code",
   "execution_count": 74,
   "id": "3693d8fa-6c16-4afa-a683-702e3fabe1f8",
   "metadata": {},
   "outputs": [
    {
     "data": {
      "text/plain": [
       "3"
      ]
     },
     "execution_count": 74,
     "metadata": {},
     "output_type": "execute_result"
    }
   ],
   "source": [
    "'my name is nitish'.count('i')"
   ]
  },
  {
   "cell_type": "code",
   "execution_count": 75,
   "id": "3ab5cbd3-78de-46b3-810e-d2ffd2e44837",
   "metadata": {},
   "outputs": [
    {
     "data": {
      "text/plain": [
       "8"
      ]
     },
     "execution_count": 75,
     "metadata": {},
     "output_type": "execute_result"
    }
   ],
   "source": [
    "# Drive te index of substrng\n",
    "'my name is nitish'.find('is')"
   ]
  },
  {
   "cell_type": "code",
   "execution_count": 116,
   "id": "4ec6b059-3390-462a-b224-61eecf0788c4",
   "metadata": {},
   "outputs": [
    {
     "data": {
      "text/plain": [
       "8"
      ]
     },
     "execution_count": 116,
     "metadata": {},
     "output_type": "execute_result"
    }
   ],
   "source": [
    "# count the index position of char/words, just telling the index of first char of words, not tell the index of all\n",
    "# all characters in string\n",
    "'my name is jaweria'.find('is jaweria')"
   ]
  },
  {
   "cell_type": "code",
   "execution_count": 142,
   "id": "5600b8ba-9796-4b2e-a75a-3fc236247029",
   "metadata": {},
   "outputs": [
    {
     "data": {
      "text/plain": [
       "-1"
      ]
     },
     "execution_count": 142,
     "metadata": {},
     "output_type": "execute_result"
    }
   ],
   "source": [
    "# -1 result , when passing that char which is not presenet in string\n",
    "\"hy how are yoy\".find('j')"
   ]
  },
  {
   "cell_type": "code",
   "execution_count": 111,
   "id": "bcaf80a9-8930-414f-8b5f-745c36bfe30f",
   "metadata": {},
   "outputs": [
    {
     "data": {
      "text/plain": [
       "4"
      ]
     },
     "execution_count": 111,
     "metadata": {},
     "output_type": "execute_result"
    }
   ],
   "source": [
    "# count the index position for only available char\n",
    "# index will through an error for character which is not present\n",
    "'my name is naila'.index('a')"
   ]
  },
  {
   "cell_type": "markdown",
   "id": "e22ce11b-007a-41fa-af88-2ba698b76ef4",
   "metadata": {},
   "source": [
    "#### endswith/startswith"
   ]
  },
  {
   "cell_type": "code",
   "execution_count": null,
   "id": "92af26f7-ff47-4a03-aa6e-86a8cd0372e7",
   "metadata": {},
   "outputs": [],
   "source": [
    "# To check a particular string is starting with that (character )or not"
   ]
  },
  {
   "cell_type": "code",
   "execution_count": 79,
   "id": "f20e98a5-0423-4015-b7a9-268450fbdd02",
   "metadata": {},
   "outputs": [
    {
     "data": {
      "text/plain": [
       "False"
      ]
     },
     "execution_count": 79,
     "metadata": {},
     "output_type": "execute_result"
    }
   ],
   "source": [
    "'my name is jaweria'.endswith('sho')"
   ]
  },
  {
   "cell_type": "code",
   "execution_count": 80,
   "id": "d58574cb-80be-4693-8844-105a143f3ef4",
   "metadata": {},
   "outputs": [
    {
     "data": {
      "text/plain": [
       "False"
      ]
     },
     "execution_count": 80,
     "metadata": {},
     "output_type": "execute_result"
    }
   ],
   "source": [
    "'my name is naila'.startswith('sho')"
   ]
  },
  {
   "cell_type": "markdown",
   "id": "0166a243-0a26-4bbd-b911-5e63352d3689",
   "metadata": {},
   "source": [
    "#### format"
   ]
  },
  {
   "cell_type": "code",
   "execution_count": 83,
   "id": "a65075b6-3628-45f2-8ef8-2239e772be56",
   "metadata": {},
   "outputs": [
    {
     "data": {
      "text/plain": [
       "'Hi my name is male and I am a nitish and my goal is to become datascientist'"
      ]
     },
     "execution_count": 83,
     "metadata": {},
     "output_type": "execute_result"
    }
   ],
   "source": [
    "# You can print the value of variable in given string....> to fill in blank\n",
    "name = 'nitish'\n",
    "gender = 'male'\n",
    "goal = 'datascientist'\n",
    "\n",
    "'Hi my name is {} and I am a {} and my goal is to become {}'.format(gender,name, goal)"
   ]
  },
  {
   "cell_type": "code",
   "execution_count": 122,
   "id": "49f2ea2b-0d31-4ed1-aaf3-cac197be34e8",
   "metadata": {},
   "outputs": [
    {
     "data": {
      "text/plain": [
       "'Hi my name is naila and I am a female and my degree is BSIT'"
      ]
     },
     "execution_count": 122,
     "metadata": {},
     "output_type": "execute_result"
    }
   ],
   "source": [
    "# we can pass the index for variable inside the curly braces {}\n",
    "# first argument is '0' index\n",
    "# 2nd argument is '1' index\n",
    "name = 'naila'\n",
    "gender = 'female'\n",
    "degree = 'BSIT'\n",
    "\n",
    "'Hi my name is {0} and I am a {1} and my degree is {2}'.format(name,gender, degree)"
   ]
  },
  {
   "cell_type": "code",
   "execution_count": 124,
   "id": "0d14d37e-8e9f-4722-a89c-f17e7085cc30",
   "metadata": {},
   "outputs": [
    {
     "data": {
      "text/plain": [
       "'Hi my name is BSIT and I am a female and my degree is BSIT'"
      ]
     },
     "execution_count": 124,
     "metadata": {},
     "output_type": "execute_result"
    }
   ],
   "source": [
    "# index argument inside curly braces not follow the sequance or order\n",
    "name = 'naila'\n",
    "gender = 'female'\n",
    "degree = 'BSIT'\n",
    "'Hi my name is {2} and I am a {1} and my degree is {2}'.format(name,gender, degree)"
   ]
  },
  {
   "cell_type": "markdown",
   "id": "59cfc011-9821-4a9b-8d66-4b1487364971",
   "metadata": {},
   "source": [
    "#### isalnum/ isalpha/ isdigit/ isidentifier"
   ]
  },
  {
   "cell_type": "code",
   "execution_count": null,
   "id": "c373a98e-8c66-454a-b2c3-a7d3eeb29fab",
   "metadata": {},
   "outputs": [],
   "source": [
    "# checking the string or char either they are alphabets or num or digit "
   ]
  },
  {
   "cell_type": "code",
   "execution_count": 88,
   "id": "4d431f33-4900-4611-91d5-62b20a3b1687",
   "metadata": {},
   "outputs": [
    {
     "data": {
      "text/plain": [
       "True"
      ]
     },
     "execution_count": 88,
     "metadata": {},
     "output_type": "execute_result"
    }
   ],
   "source": [
    "'nitish1234'.isalnum()"
   ]
  },
  {
   "cell_type": "code",
   "execution_count": 91,
   "id": "11b0f049-17a6-4f82-a1f4-98f1d6bd8f45",
   "metadata": {},
   "outputs": [
    {
     "data": {
      "text/plain": [
       "False"
      ]
     },
     "execution_count": 91,
     "metadata": {},
     "output_type": "execute_result"
    }
   ],
   "source": [
    "'nitish1234%'.isalnum()"
   ]
  },
  {
   "cell_type": "code",
   "execution_count": 92,
   "id": "2a3c6adb-ce82-471d-9987-522162efe819",
   "metadata": {},
   "outputs": [
    {
     "data": {
      "text/plain": [
       "True"
      ]
     },
     "execution_count": 92,
     "metadata": {},
     "output_type": "execute_result"
    }
   ],
   "source": [
    "'nitish'.isalpha()"
   ]
  },
  {
   "cell_type": "code",
   "execution_count": 93,
   "id": "660fe9b3-134d-4b39-a394-ed4c16f1407b",
   "metadata": {},
   "outputs": [
    {
     "data": {
      "text/plain": [
       "False"
      ]
     },
     "execution_count": 93,
     "metadata": {},
     "output_type": "execute_result"
    }
   ],
   "source": [
    "'123abc'.isdigit()"
   ]
  },
  {
   "cell_type": "code",
   "execution_count": 95,
   "id": "148f109d-9223-4c58-90f6-73c4e573a103",
   "metadata": {},
   "outputs": [
    {
     "data": {
      "text/plain": [
       "True"
      ]
     },
     "execution_count": 95,
     "metadata": {},
     "output_type": "execute_result"
    }
   ],
   "source": [
    "# True only for legal identifier which follow the rules \n",
    "a = 'hello'\n",
    "'a'.isidentifier()"
   ]
  },
  {
   "cell_type": "code",
   "execution_count": 96,
   "id": "d08e7e1b-b2bd-4a25-846b-a9e57b1a4457",
   "metadata": {},
   "outputs": [
    {
     "data": {
      "text/plain": [
       "True"
      ]
     },
     "execution_count": 96,
     "metadata": {},
     "output_type": "execute_result"
    }
   ],
   "source": [
    "'jawe'.isidentifier()"
   ]
  },
  {
   "cell_type": "code",
   "execution_count": 97,
   "id": "c85ff489-6461-42e0-850e-47cf973b1741",
   "metadata": {},
   "outputs": [
    {
     "data": {
      "text/plain": [
       "False"
      ]
     },
     "execution_count": 97,
     "metadata": {},
     "output_type": "execute_result"
    }
   ],
   "source": [
    "'jawe-'.isidentifier()"
   ]
  },
  {
   "cell_type": "code",
   "execution_count": null,
   "id": "61e98442-c449-4e5a-a52c-68ffa7f5b387",
   "metadata": {},
   "outputs": [],
   "source": []
  },
  {
   "cell_type": "markdown",
   "id": "74557075-d2a1-413f-b389-c0bf95121281",
   "metadata": {},
   "source": [
    "#### Split / Join"
   ]
  },
  {
   "cell_type": "code",
   "execution_count": null,
   "id": "0c82b3f1-fb99-476f-a16b-c56238a82418",
   "metadata": {},
   "outputs": [],
   "source": [
    "# When you use the split() method in Python, it takes a string as an argument, which is the delimiter or separator on which the\n",
    "# original string will be split."
   ]
  },
  {
   "cell_type": "code",
   "execution_count": null,
   "id": "22fdf42b-db14-4b4e-9d25-5683d032aae2",
   "metadata": {},
   "outputs": [],
   "source": [
    "# A delimiter or separator is a character or sequence of characters that is used to specify the boundary between different parts of \n",
    "# a string. When you use the split() method in Python, the delimiter is the point at which the string is divided into substrings\n",
    "\n",
    "# Ex of delimiter/separator : ,, '', _, i, j"
   ]
  },
  {
   "cell_type": "code",
   "execution_count": 99,
   "id": "7e8b7fb0-0476-4692-9a18-6ba09ac35fc1",
   "metadata": {},
   "outputs": [
    {
     "data": {
      "text/plain": [
       "['hi', 'my', 'name', 'is', 'jaweria']"
      ]
     },
     "execution_count": 99,
     "metadata": {},
     "output_type": "execute_result"
    }
   ],
   "source": [
    "# break the sentance word by word and add inside the list\n",
    "'hi my name is jaweria'.split()"
   ]
  },
  {
   "cell_type": "code",
   "execution_count": 129,
   "id": "d8245e20-8d27-4cf5-8232-b0be8b7c6ec5",
   "metadata": {},
   "outputs": [
    {
     "data": {
      "text/plain": [
       "['h', ' my name ', 's n', 't', 'sh jawe']"
      ]
     },
     "execution_count": 129,
     "metadata": {},
     "output_type": "execute_result"
    }
   ],
   "source": [
    "'hi my name is nitish jawe'.split('i')\n",
    "# split the string on the basis of i\n",
    "#"
   ]
  },
  {
   "cell_type": "code",
   "execution_count": null,
   "id": "65ebefd2-449c-41a3-aca0-634d3e0cc9bf",
   "metadata": {},
   "outputs": [],
   "source": [
    "# Fix: Always pass the delimiter as a string, e.g., 'i' or 'j', not as an undefined variable"
   ]
  },
  {
   "cell_type": "code",
   "execution_count": 139,
   "id": "f8715350-3cb5-44f6-9235-2dfa66b9c0b2",
   "metadata": {},
   "outputs": [
    {
     "data": {
      "text/plain": [
       "['hi my name is nitish jawe']"
      ]
     },
     "execution_count": 139,
     "metadata": {},
     "output_type": "execute_result"
    }
   ],
   "source": [
    "'hi my name is nitish jawe'.split(i)\n",
    "# split the string on the basis of i\n",
    "#"
   ]
  },
  {
   "cell_type": "code",
   "execution_count": null,
   "id": "23bd6f35-936d-484e-bca1-b2c3c47a8907",
   "metadata": {},
   "outputs": [],
   "source": [
    "'hi my name is nitish jawe'.split(j)\n",
    "# split the string on the basis of j , will throw errror"
   ]
  },
  {
   "cell_type": "code",
   "execution_count": 132,
   "id": "74e4256b-6670-443e-97d6-f9c774090718",
   "metadata": {},
   "outputs": [
    {
     "data": {
      "text/plain": [
       "['hijaweria']"
      ]
     },
     "execution_count": 132,
     "metadata": {},
     "output_type": "execute_result"
    }
   ],
   "source": [
    "'hijaweria'.split(' ')"
   ]
  },
  {
   "cell_type": "code",
   "execution_count": null,
   "id": "fecff669-89a2-4c6a-b34c-5954b323d111",
   "metadata": {},
   "outputs": [],
   "source": [
    "# '' throw an error of empty separator\n",
    "'hijaweria'.split('')"
   ]
  },
  {
   "cell_type": "code",
   "execution_count": 138,
   "id": "e55d73db-02fd-4501-96a2-050f7fc8b5bf",
   "metadata": {},
   "outputs": [],
   "source": [
    "# we can not pass variables as argument inside split()\n",
    "# Error : name 'split' is not defined\n",
    "a = 'jaweria is a student, jaweria is a girl, jaweri reads books'\n",
    "# split('jaweria')\n",
    "# split(a)\n",
    "# split('a')"
   ]
  },
  {
   "cell_type": "code",
   "execution_count": 135,
   "id": "d62667f6-3240-485c-9374-4a65a0619486",
   "metadata": {},
   "outputs": [
    {
     "data": {
      "text/plain": [
       "['', ' is a student, ', ' is a girl, jaweri reads books']"
      ]
     },
     "execution_count": 135,
     "metadata": {},
     "output_type": "execute_result"
    }
   ],
   "source": [
    "# right syntax of splitting\n",
    "'jaweria is a student, jaweria is a girl, jaweri reads books'.split('jaweria')"
   ]
  },
  {
   "cell_type": "code",
   "execution_count": 108,
   "id": "9f39eb56-88d1-4a1d-b93d-4c92167f2bfb",
   "metadata": {},
   "outputs": [
    {
     "data": {
      "text/plain": [
       "'hi my name is nitish'"
      ]
     },
     "execution_count": 108,
     "metadata": {},
     "output_type": "execute_result"
    }
   ],
   "source": [
    "# join()\n",
    "\" \".join(['hi', 'my', 'name', 'is', 'nitish'])"
   ]
  },
  {
   "cell_type": "markdown",
   "id": "8af30760-fcf7-4da6-b81c-f34d1c516f99",
   "metadata": {},
   "source": [
    "#### Replace"
   ]
  },
  {
   "cell_type": "code",
   "execution_count": null,
   "id": "44efd6db-8127-4a5e-9f21-2b7f56eb9445",
   "metadata": {},
   "outputs": [],
   "source": [
    "'hi my name is nitish'.replace('nitisrgewrhgh','campusx')"
   ]
  },
  {
   "cell_type": "markdown",
   "id": "92e7b88a-f281-407b-92b9-d3c28c40f386",
   "metadata": {},
   "source": [
    "#### Strip"
   ]
  },
  {
   "cell_type": "code",
   "execution_count": null,
   "id": "cff7b2c1-5d93-43c6-9e59-8d6dd7f798cc",
   "metadata": {},
   "outputs": [],
   "source": [
    "# To remove the soaces\n",
    "'nitish                           '.strip()"
   ]
  },
  {
   "cell_type": "code",
   "execution_count": null,
   "id": "73eb34b1-c0cf-496a-9d41-ca04675a759f",
   "metadata": {},
   "outputs": [],
   "source": []
  },
  {
   "cell_type": "code",
   "execution_count": null,
   "id": "d9346fa7-62a8-48f7-ab87-88c6a50da07d",
   "metadata": {},
   "outputs": [],
   "source": []
  },
  {
   "cell_type": "code",
   "execution_count": null,
   "id": "b21cade0-9242-4f37-b02d-56f9e35edaa5",
   "metadata": {},
   "outputs": [],
   "source": []
  },
  {
   "cell_type": "code",
   "execution_count": null,
   "id": "d67f5764-ac2e-4d00-bea5-b8b9cbfb1f91",
   "metadata": {},
   "outputs": [],
   "source": []
  },
  {
   "cell_type": "code",
   "execution_count": null,
   "id": "a27f3d8f-4cbc-436c-a75d-f96b94b9b1b0",
   "metadata": {},
   "outputs": [],
   "source": []
  }
 ],
 "metadata": {
  "kernelspec": {
   "display_name": "Python 3 (ipykernel)",
   "language": "python",
   "name": "python3"
  },
  "language_info": {
   "codemirror_mode": {
    "name": "ipython",
    "version": 3
   },
   "file_extension": ".py",
   "mimetype": "text/x-python",
   "name": "python",
   "nbconvert_exporter": "python",
   "pygments_lexer": "ipython3",
   "version": "3.11.7"
  }
 },
 "nbformat": 4,
 "nbformat_minor": 5
}
